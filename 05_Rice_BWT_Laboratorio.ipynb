{
 "cells": [
  {
   "cell_type": "code",
   "execution_count": 7,
   "id": "passing-bleeding",
   "metadata": {},
   "outputs": [],
   "source": [
    "def string_to_Rice(num, k):\n",
    "    m = 2**k\n",
    "    q = num//m\n",
    "    s = ('1'*q)+'0'\n",
    "    res = num%m\n",
    "    res_bin = str(bin(res))[2:]\n",
    "    res_bin = ((k-len(res_bin))*'0')+res_bin\n",
    "    return s + res_bin    "
   ]
  },
  {
   "cell_type": "code",
   "execution_count": 71,
   "id": "linear-religion",
   "metadata": {},
   "outputs": [
    {
     "name": "stdout",
     "output_type": "stream",
     "text": [
      "10001110100111111111000000000101000000000001111111111111111111111111111111111111111111111111111111110010011110001110010011011011100100\n"
     ]
    }
   ],
   "source": [
    "nums = [19, 25, 128, 1, 8, 0, 3, 884, 67, 20, 45, 36] \n",
    "k=4\n",
    "res = \"\"\n",
    "for x in nums:\n",
    "    res += string_to_Rice(x, k)\n",
    "print(res)"
   ]
  },
  {
   "cell_type": "code",
   "execution_count": 72,
   "id": "responsible-worker",
   "metadata": {},
   "outputs": [
    {
     "name": "stdout",
     "output_type": "stream",
     "text": [
      "2227\n"
     ]
    }
   ],
   "source": [
    "codigo = \"110110101000011111000010111111111111111111111111111111111111111111111111111111111111111111111111111111111111111111111111111111111111111111111111111110100000000110011111001000001110011111011001100110\"\n",
    "k = 4\n",
    "m = 2**k\n",
    "tot = 0\n",
    "while len(codigo) > 0:\n",
    "    i = 0\n",
    "    count = 0\n",
    "    while (codigo[i] == '1'):\n",
    "        i += 1;\n",
    "        count += 1\n",
    "    i += 1\n",
    "    num = count * m + int(codigo[i:i+k],2)\n",
    "    tot += num\n",
    "    codigo = codigo[i+k:]\n",
    "print (tot)\n",
    "    "
   ]
  },
  {
   "cell_type": "code",
   "execution_count": 75,
   "id": "attractive-fashion",
   "metadata": {},
   "outputs": [
    {
     "name": "stdout",
     "output_type": "stream",
     "text": [
      "eft..y]ntecr...ndssms,,st;nnnedeoe,dernrye,enronddt,yk,sfnermswtIIdtgdrefdlss,tyesIteryydr;mrsdrm,mmdtwneg,dreddddeuemsrsnwn,,--deHGks[.y.ln            .   .n oh  mc tlm    l  l    lfce ee ethhpeelL w -aa  i snnni neo nnnaenennnnnnnnnnunnn  a  hhmbhlehrvshphcdnnrrBrrfterdswbhhWhh e mmmmmhhmtrwhvddhvfpvirvrc hdYeg ooo rfi        nno nstttTttttttttwttttttts tlrd tw mer  srceesu h h shclnl slugsnnsbo oueia lalteoooooeue o - ooee oeeeeaaeaeeeooaaaiaaaaaaaaaaaaaiieuo ioiiww kiieatnrD   tsFrrrrrwwwsislltfFMsib dnddia emnoieoieeoaeeea  cofeiueihubfffffegieeuieiiieelee   ues I  aa aaian -secneuapasna             ei    ssc lciapatqofh tcoloioe aooaass  oo   btalmrk\n",
      "152\n"
     ]
    }
   ],
   "source": [
    "mensaje_org = \"The Island of Doctor Moreau, by H. G. Wells. [...] I know this is an illusion; that these seeming men and women about me are indeed men and women,--men and women for ever, perfectly reasonable creatures, full of human desires and tender solicitude, emancipated from instinct and the slaves of no fantastic Law,--beings altogether different from the Beast Folk. Yet I shrink from them, from their curious glances, their inquiries and assistance, and long to be away from them and alone. For that reason I live near the broad free downland, and can escape thither when this shadow is over my soul; and very sweet is the empty downland then, under the wind-swept sky.\"\n",
    "mensaje = mensaje_org\n",
    "perms = [mensaje]\n",
    "for i in range(1,len(mensaje)):\n",
    "    last = mensaje[-1]\n",
    "    mensaje = last + mensaje[:-1]\n",
    "    perms.append(mensaje)\n",
    "perms.sort()\n",
    "codigo = \"\"\n",
    "for p in perms:\n",
    "    codigo += p[-1]\n",
    "print(codigo)\n",
    "print(perms.index(mensaje_org))"
   ]
  },
  {
   "cell_type": "code",
   "execution_count": 45,
   "id": "prerequisite-audio",
   "metadata": {},
   "outputs": [],
   "source": [
    "def find_apperances(codi, x):\n",
    "    c = codi[x]\n",
    "    count = 0\n",
    "    for i in range(0, x + 1):\n",
    "        if codi[i] == c: count += 1\n",
    "    return count\n",
    "def find_index(ordn, x, c):\n",
    "    l = [i for i, n in enumerate(ordn) if n == c]\n",
    "#     print(l, x)\n",
    "    return l[x-1]"
   ]
  },
  {
   "cell_type": "code",
   "execution_count": 74,
   "id": "cubic-salad",
   "metadata": {},
   "outputs": [
    {
     "name": "stdout",
     "output_type": "stream",
     "text": [
      "The Island of Doctor Moreau, by H. G. Wells. [...] To tell you the truth, I feel anxious somehow. He obtained the weapon, and put it ready to my hand on the table; then went out, leaving a restless contagion in the air. I did not sit long after he left, but took the revolver in hand and went to the doorway.\n"
     ]
    }
   ],
   "source": [
    "codigo = \"f.y..,er]..gge,dl,,sIeInyrrnt,etodeddtdtaetseonoknud;ytteendlhntutHwrGs[.y.e        .   . te tt hlh   eeewao   oninnnen  ahhhhHhhhhlrwrlnflmetWhwwtvlrro eannat  Ttt ttttted  avgxas oelsb  tee loo ioioeoaaaaaiio eeoatTt D ovsi plctdtMonyi ha oeei o  tosul I eeuinionufu nb fu       s   c oaopborlaeor   nbmda \"\n",
    "n = 84\n",
    "codi = list(codigo)\n",
    "ordn = list(codi)\n",
    "ordn.sort()\n",
    "c = codi[n]\n",
    "mensaje = c\n",
    "for i in range(0, len(codigo)-1):\n",
    "    x = find_apperances(codi, n)\n",
    "    ind = find_index(ordn, x, c)\n",
    "    mensaje += codi[ind]\n",
    "#     print(ordn[ind], \"-->\", codi[ind])\n",
    "    c = codi[ind]\n",
    "    n = ind\n",
    "print(mensaje[::-1])"
   ]
  },
  {
   "cell_type": "code",
   "execution_count": null,
   "id": "clinical-comedy",
   "metadata": {},
   "outputs": [],
   "source": []
  }
 ],
 "metadata": {
  "kernelspec": {
   "display_name": "Python 3",
   "language": "python",
   "name": "python3"
  },
  "language_info": {
   "codemirror_mode": {
    "name": "ipython",
    "version": 3
   },
   "file_extension": ".py",
   "mimetype": "text/x-python",
   "name": "python",
   "nbconvert_exporter": "python",
   "pygments_lexer": "ipython3",
   "version": "3.8.8"
  }
 },
 "nbformat": 4,
 "nbformat_minor": 5
}
