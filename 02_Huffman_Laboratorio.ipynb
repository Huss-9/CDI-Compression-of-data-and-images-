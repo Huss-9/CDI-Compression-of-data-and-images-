{
 "cells": [
  {
   "cell_type": "code",
   "execution_count": 48,
   "id": "superior-navigation",
   "metadata": {},
   "outputs": [],
   "source": [
    "\n",
    "import time\n",
    "import random\n",
    "import itertools\n",
    "import binarytree\n",
    "from binarytree import Node\n",
    "from sortedcontainers import SortedList"
   ]
  },
  {
   "cell_type": "code",
   "execution_count": 17,
   "id": "russian-inventory",
   "metadata": {},
   "outputs": [
    {
     "name": "stdout",
     "output_type": "stream",
     "text": [
      "Requirement already satisfied: binarytree in c:\\users\\hussnain shafqat\\anaconda3\\lib\\site-packages (6.2.0)\n",
      "Requirement already satisfied: graphviz in c:\\users\\hussnain shafqat\\anaconda3\\lib\\site-packages (from binarytree) (0.16)\n",
      "Requirement already satisfied: setuptools-scm[toml]>=3.4 in c:\\users\\hussnain shafqat\\anaconda3\\lib\\site-packages (from binarytree) (5.0.1)\n",
      "Requirement already satisfied: setuptools>=42 in c:\\users\\hussnain shafqat\\anaconda3\\lib\\site-packages (from binarytree) (52.0.0.post20210125)\n",
      "Requirement already satisfied: toml in c:\\users\\hussnain shafqat\\anaconda3\\lib\\site-packages (from setuptools-scm[toml]>=3.4->binarytree) (0.10.1)\n"
     ]
    }
   ],
   "source": [
    "!pip install binarytree"
   ]
  },
  {
   "cell_type": "markdown",
   "id": "raising-enterprise",
   "metadata": {},
   "source": [
    "**Definir una función** `LongitudMedia(C,p)` **que dado un código $C$ y una distribución de probabilidades $p$ devuelva la longitud media $\\tilde l$ del código**."
   ]
  },
  {
   "cell_type": "code",
   "execution_count": 49,
   "id": "decent-greek",
   "metadata": {},
   "outputs": [],
   "source": [
    "def LongitudMedia(C,p):\n",
    "    l = 0.0\n",
    "    n = len(p)\n",
    "    for i in range(n):\n",
    "        l += p[i]*len(C[i])\n",
    "    return l "
   ]
  },
  {
   "cell_type": "markdown",
   "id": "excellent-cancer",
   "metadata": {},
   "source": [
    "**Definir una función** `Huffman(p)` **que dada una distribución de probabilidades $p$ devuelva** ***UN*** **código de Huffman asociado a dicha la distribución de probabilidades**."
   ]
  },
  {
   "cell_type": "code",
   "execution_count": 50,
   "id": "uniform-calcium",
   "metadata": {},
   "outputs": [],
   "source": [
    "def getCodes(node, binString):\n",
    "    left = node.left\n",
    "    right = node.right\n",
    "    d = dict()\n",
    "    if left == None and right == None:\n",
    "        d[node.value] = binString\n",
    "        return d\n",
    "    d.update(getCodes(left, binString + '0'))\n",
    "    d.update(getCodes(right, binString + '1'))\n",
    "    return d\n",
    "\n",
    "\n",
    "def Huffman(p,debug=False):\n",
    "    llista = SortedList([], key=lambda x: x[0])\n",
    "    for idx, elem in enumerate(p):\n",
    "        llista.add([elem, Node(idx)])\n",
    "    while len(llista) > 1:\n",
    "        left = llista.pop(0)\n",
    "        right = llista.pop(0)\n",
    "        prob = left[0]+right[0]\n",
    "        arbre = Node(-1)\n",
    "        arbre.left = left[1]\n",
    "        arbre.right = right[1]\n",
    "        llista.add([prob, arbre])\n",
    "    d = getCodes(llista[0][1], '')\n",
    "    n = len(p)\n",
    "    codigos = []\n",
    "    for i in range(n):\n",
    "        codigos.append(d[i])\n",
    "    return codigos"
   ]
  },
  {
   "cell_type": "markdown",
   "id": "recreational-brunswick",
   "metadata": {},
   "source": [
    "### Ejemplos"
   ]
  },
  {
   "cell_type": "code",
   "execution_count": 51,
   "id": "artistic-polymer",
   "metadata": {},
   "outputs": [
    {
     "name": "stdout",
     "output_type": "stream",
     "text": [
      "[0.5, 0.1, 0.2, 0.1, 0.05, 0.05]\n",
      "[[0.5, '0'], [0.1, '100'], [0.2, '111'], [0.1, '101'], [0.05, '1100'], [0.05, '1101']] \n",
      "\n",
      "Longitud Media: 2.1\n"
     ]
    }
   ],
   "source": [
    "p=[0.5,0.1,0.2,0.1,0.05,0.05]\n",
    "codigo=Huffman(p)\n",
    "# codigo = ['0','100','101','110','1110','1111']\n",
    "print(p)\n",
    "print([[p[i],codigo[i]] for i in range(len(p))], '\\n\\nLongitud Media:',LongitudMedia(codigo,p))\n"
   ]
  },
  {
   "cell_type": "code",
   "execution_count": 52,
   "id": "charged-hotel",
   "metadata": {},
   "outputs": [
    {
     "name": "stdout",
     "output_type": "stream",
     "text": [
      "[0.8, 0.1, 0.05, 0.05]\n",
      "[[0.8, '1'], [0.1, '00'], [0.05, '010'], [0.05, '011']] \n",
      " Longitud Media: 1.2999999999999998\n"
     ]
    }
   ],
   "source": [
    "p=[0.8,0.1,0.05,0.05]\n",
    "codigo=Huffman(p)\n",
    "print(p)\n",
    "print([[p[i],codigo[i]] for i in range(len(p))], '\\n Longitud Media:',LongitudMedia(codigo,p))\n"
   ]
  },
  {
   "cell_type": "code",
   "execution_count": 54,
   "id": "photographic-shannon",
   "metadata": {},
   "outputs": [
    {
     "name": "stdout",
     "output_type": "stream",
     "text": [
      "[0.5, 0.25, 0.1, 0.05, 0.05, 0.05]\n",
      "[[0.5, '0'], [0.25, '10'], [0.1, '1111'], [0.05, '1100'], [0.05, '1101'], [0.05, '1110']] \n",
      " Longitud Media: 1.9999999999999998\n"
     ]
    }
   ],
   "source": [
    "p=[0.5,0.25,0.1,0.05,0.05,0.05]\n",
    "codigo=Huffman(p)\n",
    "print(p)\n",
    "print([[p[i],codigo[i]] for i in range(len(p))], '\\n Longitud Media:',LongitudMedia(codigo,p))\n"
   ]
  },
  {
   "cell_type": "code",
   "execution_count": 55,
   "id": "successful-rocket",
   "metadata": {},
   "outputs": [
    {
     "name": "stdout",
     "output_type": "stream",
     "text": [
      "[0.102, 0.106, 0.053, 0.114, 0.0081, 0.106, 0.0088, 0.03, 0.056, 0.055, 0.032, 0.094, 0.0075, 0.078, 0.1496]\n",
      "[[0.102, '000'], [0.106, '001'], [0.053, '11101'], [0.114, '100'], [0.0081, '0110011'], [0.106, '010'], [0.0088, '011000'], [0.03, '01101'], [0.056, '1010'], [0.055, '0111'], [0.032, '11100'], [0.094, '1111'], [0.0075, '0110010'], [0.078, '1011'], [0.1496, '110']] \n",
      " Longitud Media: 3.6018000000000003\n"
     ]
    }
   ],
   "source": [
    "p=[0.102, 0.106, 0.053, 0.114, 0.0081, 0.106, 0.0088, 0.030, 0.056, 0.055, 0.032, 0.094, 0.0075, 0.078, 0.1496]\n",
    "codigo=Huffman(p)\n",
    "print(p)\n",
    "print([[p[i],codigo[i]] for i in range(len(p))], '\\n Longitud Media:',LongitudMedia(codigo,p))\n"
   ]
  },
  {
   "cell_type": "code",
   "execution_count": 57,
   "id": "statistical-shower",
   "metadata": {},
   "outputs": [
    {
     "name": "stdout",
     "output_type": "stream",
     "text": [
      "['0000000', '0000001', '0000010', '0000011', '0000100', '0000101', '0000110', '0000111', '0001000', '0001001', '0001010', '0001011', '0001100', '0001101', '0001110', '0001111', '0010000', '0010001', '0010010', '0010011', '0010100', '0010101', '0010110', '0010111', '0011000', '0011001', '0011010', '0011011', '0011100', '0011101', '0011110', '0011111', '0100000', '0100001', '0100010', '0100011', '0100100', '0100101', '0100110', '0100111', '0101000', '0101001', '0101010', '0101011', '0101100', '0101101', '0101110', '0101111', '0110000', '0110001', '0110010', '0110011', '0110100', '0110101', '0110110', '0110111', '0111000', '0111001', '0111010', '0111011', '0111100', '0111101', '0111110', '0111111', '1000000', '1000001', '1000010', '1000011', '1000100', '1000101', '1000110', '1000111', '1001000', '1001001', '1001010', '1001011', '1001100', '1001101', '1001110', '1001111', '1010000', '1010001', '1010010', '1010011', '1010100', '1010101', '1010110', '1010111', '1011000', '1011001', '1011010', '1011011', '1011100', '1011101', '1011110', '1011111', '1100000', '1100001', '1100010', '1100011', '1100100', '1100101', '1100110', '1100111', '1101000', '1101001', '1101010', '1101011', '1101100', '1101101', '1101110', '1101111', '1110000', '1110001', '1110010', '1110011', '1110100', '1110101', '1110110', '1110111', '1111000', '1111001', '1111010', '1111011', '1111100', '1111101', '1111110', '1111111'] \n",
      " Longitud Media: 7.0\n"
     ]
    }
   ],
   "source": [
    "n=2**7\n",
    "p=[1/n for _ in range(n)]\n",
    "\n",
    "codigo=Huffman(p)\n",
    "\n",
    "print(codigo, '\\n Longitud Media:',LongitudMedia(codigo,p))\n"
   ]
  },
  {
   "cell_type": "markdown",
   "id": "official-adoption",
   "metadata": {},
   "source": [
    "**Definir una función** `tablaFrecuencias(mensaje, numero_de_simbolos=1)` **que dado un mensaje $M$ devuelva una tabla con la frecuencia de cada tupla de** `numero_de_simbolos` **símbolos del mensaje**."
   ]
  },
  {
   "cell_type": "code",
   "execution_count": 6,
   "id": "racial-recipient",
   "metadata": {},
   "outputs": [],
   "source": [
    "\n",
    "\n",
    "def tablaFrecuencias(mensaje,numero_de_simbolos=1):\n",
    "    frecuencias = dict()\n",
    "    sum = 0;\n",
    "    for c in mensaje:\n",
    "        if c in frecuencias:\n",
    "            frecuencias[c] += 1\n",
    "        else:\n",
    "            frecuencias[c] = 1\n",
    "        sum += 1\n",
    "    return frecuencias\n"
   ]
  },
  {
   "cell_type": "markdown",
   "id": "extreme-parameter",
   "metadata": {
    "execution": {
     "iopub.execute_input": "2021-02-25T13:35:14.825365Z",
     "iopub.status.busy": "2021-02-25T13:35:14.824975Z",
     "iopub.status.idle": "2021-02-25T13:35:14.833937Z",
     "shell.execute_reply": "2021-02-25T13:35:14.832972Z",
     "shell.execute_reply.started": "2021-02-25T13:35:14.825324Z"
    }
   },
   "source": [
    "### Ejemplos de como cambian las frecuencias según la _fuente_ $S$"
   ]
  },
  {
   "cell_type": "code",
   "execution_count": 7,
   "id": "committed-going",
   "metadata": {},
   "outputs": [
    {
     "name": "stdout",
     "output_type": "stream",
     "text": [
      "{'L': 3, 'a': 267, ' ': 384, 'h': 15, 'e': 238, 'r': 126, 'o': 141, 'i': 98, 'c': 64, 'u': 87, 'd': 104, 'm': 49, 'í': 12, 'l': 112, 's': 145, 't': 68, '.': 8, 'E': 2, 'v': 11, 'n': 110, 'S': 2, ',': 46, 'y': 29, 'p': 48, 'z': 11, 'j': 7, 'b': 46, 'q': 25, 'g': 23, 'N': 1, 'á': 11, 'é': 3, 'C': 2, 'ó': 5, 'f': 6, 'ñ': 5, 'V': 1, 'B': 1, 'x': 1, ';': 3, 'ú': 1}\n"
     ]
    }
   ],
   "source": [
    "mensaje='La heroica ciudad dormía la siesta. El viento Sur, caliente y perezoso, empujaba las nubes blanquecinas que se rasgaban al correr hacia el Norte. En las calles no había más ruido que el rumor estridente de los remolinos de polvo, trapos, pajas y papeles que iban de arroyo en arroyo, de acera en acera, de esquina en esquina revolando y persiguiéndose, como mariposas que se buscan y huyen y que el aire envuelve en sus pliegues invisibles. Cual turbas de pilluelos, aquellas migajas de la basura, aquellas sobras de todo se juntaban en un montón, parábanse como dormidas un momento y brincaban de nuevo sobresaltadas, dispersándose, trepando unas por las paredes hasta los cristales temblorosos de los faroles, otras hasta los carteles de papel mal pegado a las esquinas, y había pluma que llegaba a un tercer piso, y arenilla que se incrustaba para días, o para años, en la vidriera de un escaparate, agarrada a un plomo. Vetusta, la muy noble y leal ciudad, corte en lejano siglo, hacía la digestión del cocido y de la olla podrida, y descansaba oyendo entre sueños el monótono y familiar zumbido de la campana de coro, que retumbaba allá en lo alto de la esbeltatorre en la Santa Basílica. La torre de la catedral, poema romántico de piedra,delicado himno, de dulces líneas de belleza muda y perenne, era obra del siglo diez y seis, aunque antes comenzada, de estilo gótico, pero, cabe decir, moderado por un instinto de prudencia y armonía que modificaba las vulgares exageraciones de esta arquitectura. La vista no se fatigaba contemplando horas y horas aquel índice depiedra que señalaba al cielo; no era una de esas torres cuya aguja se quiebra desutil, más flacas que esbeltas, amaneradas, como señoritas cursis que aprietandemasiado el corsé; era maciza sin perder nada de su espiritual grandeza, y hasta sussegundos corredores, elegante balaustrada, subía como fuerte castillo, lanzándosedesde allí en pirámide de ángulo gracioso, inimitable en sus medidas y proporciones.Como haz de músculos y nervios la piedra enroscándose en la piedra trepaba a la altura, haciendo equilibrios de acróbata en el aire; y como prodigio de juegosmalabares, en una punta de caliza se mantenía, cual imantada, una bola grande debronce dorado, y encima otra más pequeña, y sobre ésta una cruz de hierro que acababa en pararrayos.'\n",
    "\n",
    "nnn=1\n",
    "print(tablaFrecuencias(mensaje,numero_de_simbolos=nnn))\n"
   ]
  },
  {
   "cell_type": "code",
   "execution_count": 62,
   "id": "successful-instrumentation",
   "metadata": {
    "execution": {
     "iopub.execute_input": "2021-02-26T10:39:37.439295Z",
     "iopub.status.busy": "2021-02-26T10:39:37.438740Z",
     "iopub.status.idle": "2021-02-26T10:39:37.447004Z",
     "shell.execute_reply": "2021-02-26T10:39:37.446079Z",
     "shell.execute_reply.started": "2021-02-26T10:39:37.439231Z"
    }
   },
   "outputs": [
    {
     "name": "stdout",
     "output_type": "stream",
     "text": [
      "[[' C', 1], [' L', 1], [' N', 1], [' a', 18], [' b', 5], [' c', 17], [' d', 23], [' e', 21], [' f', 2], [' g', 2], [' h', 5], [' i', 4], [' j', 2], [' l', 15], [' m', 7], [' n', 3], [' o', 4], [' p', 15], [' q', 8], [' r', 5], [' s', 9], [' t', 2], [' u', 5], [' v', 1], [' y', 9], [' á', 1], [' é', 1], [', ', 16], [',d', 1], ['. ', 4], ['..', 1], ['.C', 1], ['; ', 1], ['Ba', 1], ['El', 1], ['En', 1], ['La', 2], ['Sa', 1], ['Su', 1], ['Ve', 1], ['a ', 40], ['a,', 8], ['a.', 1], ['ab', 9], ['ac', 5], ['ad', 7], ['ag', 1], ['ai', 1], ['al', 9], ['am', 1], ['an', 9], ['ap', 2], ['aq', 2], ['ar', 7], ['as', 10], ['at', 3], ['ay', 1], ['añ', 1], ['ba', 14], ['bl', 1], ['br', 3], ['ca', 7], ['ce', 2], ['ci', 7], ['co', 5], ['cr', 3], ['ct', 1], ['cu', 3], ['cí', 1], ['d ', 1], ['d,', 1], ['da', 7], ['de', 23], ['di', 4], ['do', 11], ['dr', 4], ['du', 1], ['e ', 34], ['e,', 3], ['ea', 1], ['eb', 2], ['ed', 3], ['ei', 1], ['el', 11], ['em', 2], ['en', 15], ['ep', 3], ['eq', 1], ['er', 10], ['es', 20], ['et', 1], ['ev', 2], ['ez', 2], ['eñ', 2], ['fa', 1], ['fl', 1], ['fu', 1], ['ga', 7], ['ge', 1], ['gi', 1], ['gl', 1], ['go', 1], ['gr', 2], ['gu', 3], ['ha', 5], ['hi', 2], ['ho', 2], ['hu', 1], ['ia', 3], ['ib', 2], ['ic', 3], ['id', 4], ['ie', 9], ['if', 1], ['ig', 2], ['il', 2], ['im', 1], ['in', 2], ['io', 3], ['ir', 2], ['is', 5], ['it', 1], ['iu', 2], ['iz', 1], ['ié', 1], ['ja', 4], ['l ', 10], ['l,', 1], ['la', 14], ['lc', 1], ['le', 10], ['lg', 1], ['li', 4], ['ll', 6], ['lo', 9], ['lt', 1], ['lu', 1], ['ma', 8], ['mb', 2], ['me', 2], ['mi', 2], ['mn', 1], ['mo', 7], ['mp', 2], ['mu', 1], ['má', 2], ['n ', 14], ['na', 6], ['nc', 4], ['nd', 8], ['ne', 2], ['ng', 1], ['ni', 1], ['nn', 1], ['no', 6], ['nq', 1], ['ns', 2], ['nt', 8], ['nu', 1], ['nv', 1], ['nz', 1], ['nó', 1], ['o ', 20], ['o,', 6], ['o;', 1], ['ob', 2], ['oc', 1], ['od', 4], ['oe', 1], ['oi', 1], ['ol', 5], ['om', 6], ['on', 4], ['op', 1], ['or', 8], ['os', 8], ['ot', 1], ['pa', 7], ['pe', 8], ['pi', 3], ['pl', 1], ['po', 3], ['pr', 2], ['pu', 1], ['qu', 10], ['r ', 5], ['r,', 2], ['ra', 18], ['rb', 1], ['rc', 1], ['rd', 1], ['re', 11], ['ri', 5], ['rm', 2], ['ro', 7], ['rq', 1], ['rr', 4], ['rs', 3], ['rt', 1], ['ru', 3], ['rv', 1], ['rá', 1], ['s ', 34], ['s,', 8], ['s.', 1], ['sa', 3], ['sb', 2], ['sc', 3], ['se', 10], ['si', 4], ['sm', 1], ['so', 4], ['sq', 2], ['st', 6], ['su', 4], ['sí', 1], ['ta', 11], ['te', 9], ['ti', 6], ['to', 5], ['tr', 7], ['tu', 3], ['u ', 1], ['ua', 1], ['ub', 2], ['ud', 1], ['ue', 12], ['ui', 6], ['uj', 1], ['ul', 1], ['um', 1], ['un', 9], ['ur', 2], ['us', 3], ['ut', 1], ['uy', 1], ['uz', 1], ['ve', 1], ['vi', 2], ['vo', 1], ['vu', 2], ['xa', 1], ['y ', 14], ['ye', 2], ['yo', 2], ['z ', 1], ['za', 2], ['zo', 1], ['zu', 1], ['zá', 1], ['á ', 1], ['ám', 1], ['án', 3], ['ás', 1], ['é;', 1], ['í ', 1], ['ía', 7], ['ín', 2], ['ña', 1], ['ño', 1], ['ób', 1], ['ón', 2], ['ót', 1], ['ús', 1]]\n"
     ]
    }
   ],
   "source": [
    "mensaje='La heroica ciudad dormía la siesta. El viento Sur, caliente y perezoso, empujaba las nubes blanquecinas que se rasgaban al correr hacia el Norte. En las calles no había más ruido que el rumor estridente de los remolinos de polvo, trapos, pajas y papeles que iban de arroyo en arroyo, de acera en acera, de esquina en esquina revolando y persiguiéndose, como mariposas que se buscan y huyen y que el aire envuelve en sus pliegues invisibles. Cual turbas de pilluelos, aquellas migajas de la basura, aquellas sobras de todo se juntaban en un montón, parábanse como dormidas un momento y brincaban de nuevo sobresaltadas, dispersándose, trepando unas por las paredes hasta los cristales temblorosos de los faroles, otras hasta los carteles de papel mal pegado a las esquinas, y había pluma que llegaba a un tercer piso, y arenilla que se incrustaba para días, o para años, en la vidriera de un escaparate, agarrada a un plomo. Vetusta, la muy noble y leal ciudad, corte en lejano siglo, hacía la digestión del cocido y de la olla podrida, y descansaba oyendo entre sueños el monótono y familiar zumbido de la campana de coro, que retumbaba allá en lo alto de la esbeltatorre en la Santa Basílica. La torre de la catedral, poema romántico de piedra,delicado himno, de dulces líneas de belleza muda y perenne, era obra del siglo diez y seis, aunque antes comenzada, de estilo gótico, pero, cabe decir, moderado por un instinto de prudencia y armonía que modificaba las vulgares exageraciones de esta arquitectura. La vista no se fatigaba contemplando horas y horas aquel índice depiedra que señalaba al cielo; no era una de esas torres cuya aguja se quiebra desutil, más flacas que esbeltas, amaneradas, como señoritas cursis que aprietandemasiado el corsé; era maciza sin perder nada de su espiritual grandeza, y hasta sussegundos corredores, elegante balaustrada, subía como fuerte castillo, lanzándosedesde allí en pirámide de ángulo gracioso, inimitable en sus medidas y proporciones.Como haz de músculos y nervios la piedra enroscándose en la piedra trepaba a la altura, haciendo equilibrios de acróbata en el aire; y como prodigio de juegosmalabares, en una punta de caliza se mantenía, cual imantada, una bola grande debronce dorado, y encima otra más pequeña, y sobre ésta una cruz de hierro que acababa en pararrayos.'\n",
    "\n",
    "nnn=2\n",
    "print(tablaFrecuencias(mensaje,numero_de_simbolos=nnn))\n"
   ]
  },
  {
   "cell_type": "markdown",
   "id": "offshore-storm",
   "metadata": {},
   "source": [
    "---\n",
    "**Definir una función** `EncodeHuffman(mensaje,numero_de_simbolos=n_simbolos)` **que codifique un mensaje utilizando un código de Huffman \n",
    "obtenido a partir de las frecuencias de los caracteres del mensaje.**\n"
   ]
  },
  {
   "cell_type": "markdown",
   "id": "faced-grade",
   "metadata": {
    "execution": {
     "iopub.execute_input": "2021-02-26T10:09:45.730141Z",
     "iopub.status.busy": "2021-02-26T10:09:45.729935Z",
     "iopub.status.idle": "2021-02-26T10:09:45.742842Z",
     "shell.execute_reply": "2021-02-26T10:09:45.742038Z",
     "shell.execute_reply.started": "2021-02-26T10:09:45.730119Z"
    }
   },
   "source": [
    "Codifico un mensaje de prueba tomando las frecuencias de cada símbolo.  \n",
    "\n",
    "Hago una estimación de la ratio de compresión sin contar que he de almacenar el diccionario y contándolo.\n",
    "\n",
    "Los tiempos dependerán del entorno de ejecución."
   ]
  },
  {
   "cell_type": "code",
   "execution_count": 66,
   "id": "adjusted-publicity",
   "metadata": {
    "execution": {
     "iopub.execute_input": "2021-02-26T10:46:50.235528Z",
     "iopub.status.busy": "2021-02-26T10:46:50.235177Z",
     "iopub.status.idle": "2021-02-26T10:46:50.506330Z",
     "shell.execute_reply": "2021-02-26T10:46:50.505785Z",
     "shell.execute_reply.started": "2021-02-26T10:46:50.235490Z"
    }
   },
   "outputs": [
    {
     "name": "stdout",
     "output_type": "stream",
     "text": [
      "------------------------------------------------------------\n",
      "Tiempo para crear tabla de frecuencias:  0.11396598815917969\n",
      "Entropía por símbolo:  4.201875546880906\n",
      "Ratio de compresión máxima estimada sin diccionario:  1.9039116962753644\n",
      "Tiempo para crear código Huffman:  0.000690460205078125\n",
      "Tiempo para codificar:  0.033026933670043945\n",
      "\n",
      " Diccionario ordenado alfabéticamente:  [(' ', '110'), (',', '111001'), ('.', '10110000'), (';', '000010001'), ('B', '0000000100'), ('C', '1011000101'), ('E', '1011000100'), ('L', '000010000'), ('N', '10110001111'), ('S', '0000000101'), ('V', '10110001110'), ('a', '011'), ('b', '111000'), ('c', '10000'), ('d', '11111'), ('e', '010'), ('f', '00000000'), ('g', '1011011'), ('h', '0000101'), ('i', '11110'), ('j', '00001001'), ('l', '0010'), ('m', '111011'), ('n', '0001'), ('o', '1001'), ('p', '111010'), ('q', '000001'), ('r', '0011'), ('s', '1010'), ('t', '10001'), ('u', '10111'), ('v', '10110101'), ('x', '10110001101'), ('y', '000011'), ('z', '10110100'), ('á', '10110011'), ('é', '000000011'), ('í', '0000001'), ('ñ', '101100101'), ('ó', '101100100'), ('ú', '10110001100')]\n",
      "\n",
      " Diccionario ordenado longitud código:  [(' ', '110'), ('a', '011'), ('e', '010'), ('l', '0010'), ('n', '0001'), ('o', '1001'), ('r', '0011'), ('s', '1010'), ('c', '10000'), ('d', '11111'), ('i', '11110'), ('t', '10001'), ('u', '10111'), (',', '111001'), ('b', '111000'), ('m', '111011'), ('p', '111010'), ('q', '000001'), ('y', '000011'), ('g', '1011011'), ('h', '0000101'), ('í', '0000001'), ('.', '10110000'), ('f', '00000000'), ('j', '00001001'), ('v', '10110101'), ('z', '10110100'), ('á', '10110011'), (';', '000010001'), ('L', '000010000'), ('é', '000000011'), ('ñ', '101100101'), ('ó', '101100100'), ('B', '0000000100'), ('C', '1011000101'), ('E', '1011000100'), ('S', '0000000101'), ('N', '10110001111'), ('V', '10110001110'), ('x', '10110001101'), ('ú', '10110001100')]\n",
      "\n",
      " Ratio de compresión:  1.8883351978033154 1856800 --> 983300\n",
      "\n",
      " Ratio de compresión estimada con diccionario:  1.887076251377094 1856800 --> 983956\n",
      "\n",
      " Diccionario a guardar:  [[' ', 3], [',', 6], ['.', 8], [';', 9], ['B', 10], ['C', 10], ['E', 10], ['L', 9], ['N', 11], ['S', 10], ['V', 11], ['a', 3], ['b', 6], ['c', 5], ['d', 5], ['e', 3], ['f', 8], ['g', 7], ['h', 7], ['i', 5], ['j', 8], ['l', 4], ['m', 6], ['n', 4], ['o', 4], ['p', 6], ['q', 6], ['r', 4], ['s', 4], ['t', 5], ['u', 5], ['v', 8], ['x', 11], ['y', 6], ['z', 8], ['á', 8], ['é', 9], ['í', 7], ['ñ', 9], ['ó', 9], ['ú', 11]]\n"
     ]
    }
   ],
   "source": [
    "\n",
    "mensaje='La heroica ciudad dormía la siesta. El viento Sur, caliente y perezoso, empujaba las nubes blanquecinas que se rasgaban al correr hacia el Norte. En las calles no había más ruido que el rumor estridente de los remolinos de polvo, trapos, pajas y papeles que iban de arroyo en arroyo, de acera en acera, de esquina en esquina revolando y persiguiéndose, como mariposas que se buscan y huyen y que el aire envuelve en sus pliegues invisibles. Cual turbas de pilluelos, aquellas migajas de la basura, aquellas sobras de todo se juntaban en un montón, parábanse como dormidas un momento y brincaban de nuevo sobresaltadas, dispersándose, trepando unas por las paredes hasta los cristales temblorosos de los faroles, otras hasta los carteles de papel mal pegado a las esquinas, y había pluma que llegaba a un tercer piso, y arenilla que se incrustaba para días, o para años, en la vidriera de un escaparate, agarrada a un plomo. Vetusta, la muy noble y leal ciudad, corte en lejano siglo, hacía la digestión del cocido y de la olla podrida, y descansaba oyendo entre sueños el monótono y familiar zumbido de la campana de coro, que retumbaba allá en lo alto de la esbeltatorre en la Santa Basílica. La torre de la catedral, poema romántico de piedra,delicado himno, de dulces líneas de belleza muda y perenne, era obra del siglo diez y seis, aunque antes comenzada, de estilo gótico, pero, cabe decir, moderado por un instinto de prudencia y armonía que modificaba las vulgares exageraciones de esta arquitectura. La vista no se fatigaba contemplando horas y horas aquel índice depiedra que señalaba al cielo; no era una de esas torres cuya aguja se quiebra desutil, más flacas que esbeltas, amaneradas, como señoritas cursis que aprietandemasiado el corsé; era maciza sin perder nada de su espiritual grandeza, y hasta sussegundos corredores, elegante balaustrada, subía como fuerte castillo, lanzándosedesde allí en pirámide de ángulo gracioso, inimitable en sus medidas y proporciones.Como haz de músculos y nervios la piedra enroscándose en la piedra trepaba a la altura, haciendo equilibrios de acróbata en el aire; y como prodigio de juegosmalabares, en una punta de caliza se mantenía, cual imantada, una bola grande debronce dorado, y encima otra más pequeña, y sobre ésta una cruz de hierro que acababa en pararrayos.'\n",
    "\n",
    "mensaje=mensaje[:]*100\n",
    "n_simbolos=1\n",
    "\n",
    "mensaje_codificado, m2c,len_M=EncodeHuffman(mensaje,numero_de_simbolos=n_simbolos)\n",
    "mensaje_recuperado=DecodeHuffman(mensaje_codificado,m2c,len_M)\n",
    "\n",
    "print('\\n Diccionario ordenado alfabéticamente: ', sorted(m2c.items(), key=lambda x: x[0]))\n",
    "print('\\n Diccionario ordenado longitud código: ', sorted(m2c.items(), key=lambda x: len(x[1])))\n",
    "ratio_compresion=8*len(mensaje)/len(mensaje_codificado)\n",
    "ratio_compresion_con_diccionario=8*len(mensaje)/(len(mensaje_codificado)+len(m2c)*8*(n_simbolos+1))\n",
    "print('\\n Ratio de compresión: ', ratio_compresion ,8*len(mensaje),\"-->\",len(mensaje_codificado))\n",
    "print('\\n Ratio de compresión estimada con diccionario: ', ratio_compresion_con_diccionario,8*len(mensaje),\"-->\",len(mensaje_codificado)+len(m2c)*16)\n",
    "if (mensaje!=mensaje_recuperado):\n",
    "        print('!!!!!!!!!!!!!!!!!!!!!!!!!!!!!!!!!!!!!!!!!!!!')\n",
    "\n",
    "print('\\n Diccionario a guardar: ',[[x[0],len(x[1])] for x in m2c.items() ])\n"
   ]
  },
  {
   "cell_type": "markdown",
   "id": "intellectual-transcription",
   "metadata": {},
   "source": [
    "### Codifico _La Regenta_ \n",
    "Uso como fuente los símbolos del texto."
   ]
  },
  {
   "cell_type": "code",
   "execution_count": 71,
   "id": "patent-quarterly",
   "metadata": {
    "execution": {
     "iopub.execute_input": "2021-02-26T10:53:26.913882Z",
     "iopub.status.busy": "2021-02-26T10:53:26.913404Z",
     "iopub.status.idle": "2021-02-26T10:53:28.743110Z",
     "shell.execute_reply": "2021-02-26T10:53:28.742507Z",
     "shell.execute_reply.started": "2021-02-26T10:53:26.913832Z"
    }
   },
   "outputs": [
    {
     "name": "stdout",
     "output_type": "stream",
     "text": [
      "Tiempo para crear tabla de frecuencias:  0.744138240814209\n",
      "Entropía por símbolo:  4.421453902139422\n",
      "Ratio de compresión máxima estimada sin diccionario:  1.8093595855718445\n",
      "Tiempo para crear código Huffman:  0.001974344253540039\n",
      "Tiempo para codificar:  0.17607498168945312\n",
      "--------------------------------------------------------------------------------\n",
      "\n",
      " Diccionario ordenado alfabéticamente:  [('\\n', '110000'), (' ', '111'), ('!', '1011001100'), (\"'\", '10010000001100101'), ('(', '10110011111110'), (')', '10110011111101'), ('+', '10110011111111000111'), (',', '011101'), ('-', '110101010'), ('.', '100000'), ('0', '10110011111111000101'), ('1', '101100111111111011'), ('2', '101100111111110000'), ('3', '1001000000110011011'), ('4', '10010000001100110000'), ('5', '101100111111110001101'), ('6', '1011001111111100101'), ('7', '1001000000110011010'), ('8', '100100000011001111'), (':', '10010111101'), (';', '100101110'), ('?', '1001000111'), ('A', '011100000'), ('B', '101100111110'), ('C', '1001000101'), ('D', '1001000001'), ('E', '011100001'), ('F', '10110011010'), ('G', '100100000010'), ('H', '101100110110'), ('I', '100100000001'), ('J', '100100000000'), ('K', '10110011111111100'), ('L', '1001000100'), ('M', '1011001110'), ('N', '11010101111'), ('O', '10010110100'), ('P', '100100001'), ('Q', '10010111100'), ('R', '10110011110'), ('S', '1101010110'), ('T', '10010110101'), ('U', '1001000000111'), ('V', '1001011011'), ('W', '101100111111111010'), ('X', '100100000011000'), ('Y', '11010110100'), ('Z', '1011001111111101'), ('a', '010'), ('b', '100001'), ('c', '01111'), ('d', '10111'), ('e', '000'), ('f', '10110010'), ('g', '1011000'), ('h', '1001001'), ('i', '11001'), ('j', '01110001'), ('k', '1011001111111111'), ('l', '11011'), ('m', '110001'), ('n', '0010'), ('o', '1010'), ('p', '101101'), ('q', '1101000'), ('r', '0011'), ('s', '0110'), ('t', '10001'), ('u', '10011'), ('v', '1001010'), ('w', '101100111111110011'), ('x', '11010101110'), ('y', '0111001'), ('z', '110101110'), ('¡', '1001011111'), ('ª', '1001000000110011001'), ('«', '11010110110'), ('º', '100100000011001110'), ('»', '11010110111'), ('¿', '1001000110'), ('Á', '101100110111'), ('É', '10110011111100'), ('Í', '1011001111111100100'), ('Ó', '10010000001100110001'), ('Ú', '1001000000110010011'), ('à', '101100111111110001100'), ('á', '110101111'), ('ç', '101100111111110001001'), ('è', '100100000011001000'), ('é', '110101100'), ('í', '1101001'), ('ï', '101100111111110001000'), ('ñ', '100101100'), ('ó', '11010100'), ('ö', '1001000000110010010'), ('ú', '11010110101'), ('ü', '10010000001101')]\n",
      "\n",
      " Diccionario ordenado longitud código:  [(' ', '111'), ('a', '010'), ('e', '000'), ('n', '0010'), ('o', '1010'), ('r', '0011'), ('s', '0110'), ('c', '01111'), ('d', '10111'), ('i', '11001'), ('l', '11011'), ('t', '10001'), ('u', '10011'), ('\\n', '110000'), (',', '011101'), ('.', '100000'), ('b', '100001'), ('m', '110001'), ('p', '101101'), ('g', '1011000'), ('h', '1001001'), ('q', '1101000'), ('v', '1001010'), ('y', '0111001'), ('í', '1101001'), ('f', '10110010'), ('j', '01110001'), ('ó', '11010100'), ('-', '110101010'), (';', '100101110'), ('A', '011100000'), ('E', '011100001'), ('P', '100100001'), ('z', '110101110'), ('á', '110101111'), ('é', '110101100'), ('ñ', '100101100'), ('!', '1011001100'), ('?', '1001000111'), ('C', '1001000101'), ('D', '1001000001'), ('L', '1001000100'), ('M', '1011001110'), ('S', '1101010110'), ('V', '1001011011'), ('¡', '1001011111'), ('¿', '1001000110'), (':', '10010111101'), ('F', '10110011010'), ('N', '11010101111'), ('O', '10010110100'), ('Q', '10010111100'), ('R', '10110011110'), ('T', '10010110101'), ('Y', '11010110100'), ('x', '11010101110'), ('«', '11010110110'), ('»', '11010110111'), ('ú', '11010110101'), ('B', '101100111110'), ('G', '100100000010'), ('H', '101100110110'), ('I', '100100000001'), ('J', '100100000000'), ('Á', '101100110111'), ('U', '1001000000111'), ('(', '10110011111110'), (')', '10110011111101'), ('É', '10110011111100'), ('ü', '10010000001101'), ('X', '100100000011000'), ('Z', '1011001111111101'), ('k', '1011001111111111'), (\"'\", '10010000001100101'), ('K', '10110011111111100'), ('1', '101100111111111011'), ('2', '101100111111110000'), ('8', '100100000011001111'), ('W', '101100111111111010'), ('w', '101100111111110011'), ('º', '100100000011001110'), ('è', '100100000011001000'), ('3', '1001000000110011011'), ('6', '1011001111111100101'), ('7', '1001000000110011010'), ('ª', '1001000000110011001'), ('Í', '1011001111111100100'), ('Ú', '1001000000110010011'), ('ö', '1001000000110010010'), ('+', '10110011111111000111'), ('0', '10110011111111000101'), ('4', '10010000001100110000'), ('Ó', '10010000001100110001'), ('5', '101100111111110001101'), ('à', '101100111111110001100'), ('ç', '101100111111110001001'), ('ï', '101100111111110001000')]\n",
      "\n",
      " Ratio de compresión:  1.793636939741042 14344224 --> 7997284 (bits)\n",
      "\n",
      " Ratio de compresión estimada con diccionario:  1.7932889235383749 14344224 --> 7998836 (bits)\n",
      "\n",
      " Tamaño Huffman     : 999854 bytes\n",
      "\n",
      " Tamaño Fichero .bz2: 518588 bytes\n",
      "\n",
      " Tamaño Fichero .zip: 678394 bytes\n",
      "\n",
      " Tamaño Fichero  .gz: 710464 bytes\n",
      "\n",
      " Tiempo Encode (Tabla frecuencias+Código Huffman+Codificación): 0.9228854179382324\n",
      "\n",
      " Tiempo Decode: 0.8853530883789062\n"
     ]
    }
   ],
   "source": [
    "n_simbolos=1\n",
    "\n",
    "with open (\"../standard_test_text/la_regenta_utf8\", \"r\") as myfile:\n",
    "    mensaje=myfile.read()\n",
    "t0=time.time()    \n",
    "mensaje_codificado, m2c,len_M=EncodeHuffman(mensaje,numero_de_simbolos=n_simbolos)\n",
    "t_encode=time.time()-t0\n",
    "print('--------------------------------------------------------------------------------')\n",
    "print('\\n Diccionario ordenado alfabéticamente: ', sorted(m2c.items(), key=lambda x: x[0]))\n",
    "print('\\n Diccionario ordenado longitud código: ', sorted(m2c.items(), key=lambda x: len(x[1])))\n",
    "ratio_compresion=8*len(mensaje)/len(mensaje_codificado)\n",
    "ratio_compresion_con_diccionario=8*len(mensaje)/(len(mensaje_codificado)+len(m2c)*8*(n_simbolos+1))\n",
    "print('\\n Ratio de compresión: ', ratio_compresion ,8*len(mensaje),\"-->\",len(mensaje_codificado),'(bits)')\n",
    "print('\\n Ratio de compresión estimada con diccionario: ', ratio_compresion_con_diccionario,8*len(mensaje),\"-->\",len(mensaje_codificado)+len(m2c)*8*(n_simbolos+1),'(bits)')\n",
    "\n",
    "print('\\n Tamaño Huffman     :',int((len(mensaje_codificado)+len(m2c)*8*(n_simbolos+1))/8),'bytes')\n",
    "print('\\n Tamaño Fichero .bz2: 518588 bytes')\n",
    "print('\\n Tamaño Fichero .zip: 678394 bytes')\n",
    "print('\\n Tamaño Fichero  .gz: 710464 bytes')\n",
    "\n",
    "\n",
    "t0=time.time()\n",
    "mensaje_recuperado=DecodeHuffman(mensaje_codificado,m2c,len_M)\n",
    "t_decode=time.time()-t0\n",
    "print(\"\\n Tiempo Encode (Tabla frecuencias+Código Huffman+Codificación):\", t_encode)\n",
    "print(\"\\n Tiempo Decode:\", t_decode)\n",
    "if (mensaje!=mensaje_recuperado):\n",
    "        print('!!!!!!!!!!!!!!!!!!!!!!!!!!!!!!!!!!!!!!!!!!!!')\n",
    "\n"
   ]
  },
  {
   "cell_type": "markdown",
   "id": "arranged-inquiry",
   "metadata": {},
   "source": [
    "**Hago distintas pruebas  para ver como varía la ratio de compresión según el número de símbolos de la fuente tomados para calcular las frecuencias**"
   ]
  },
  {
   "cell_type": "code",
   "execution_count": 79,
   "id": "enclosed-communications",
   "metadata": {
    "execution": {
     "iopub.execute_input": "2021-02-26T11:09:50.595896Z",
     "iopub.status.busy": "2021-02-26T11:09:50.595507Z",
     "iopub.status.idle": "2021-02-26T11:10:40.679590Z",
     "shell.execute_reply": "2021-02-26T11:10:40.679167Z",
     "shell.execute_reply.started": "2021-02-26T11:09:50.595857Z"
    }
   },
   "outputs": [
    {
     "name": "stdout",
     "output_type": "stream",
     "text": [
      "\n",
      "\n",
      "--------------------------------------------------------------------------------\n",
      " Codifico usando una fuente que toma 1 símbolos consecutivos\n",
      "--------------------------------------------------------------------------------\n",
      "Tiempo para crear tabla de frecuencias:  0.6799380779266357\n",
      "Entropía por símbolo:  4.421453902139422\n",
      "Ratio de compresión máxima estimada sin diccionario:  1.8093595855718445\n",
      "Tiempo para crear código Huffman:  0.0017235279083251953\n",
      "Tiempo para codificar:  0.1780836582183838\n",
      "\n",
      " Ratio de compresión:  1.793636939741042 14344224 --> 7997284 (bits)\n",
      "\n",
      " Ratio de compresión estimada con diccionario:  1.7932889235383749 14344224 --> 7998836 (bits)\n",
      "\n",
      " Tamaño Huffman     : 999854 bytes\n",
      "\n",
      " Tamaño Fichero .bz2: 518588 bytes\n",
      "\n",
      " Tamaño Fichero .zip: 678394 bytes\n",
      "\n",
      " Tamaño Fichero  .gz: 710464 bytes\n",
      "\n",
      " Tiempo Encode (Tabla frecuencias+Código Huffman+Codificación): 0.8636305332183838\n",
      "\n",
      " Tiempo Decode: 0.8202612400054932\n",
      "\n",
      "\n",
      "--------------------------------------------------------------------------------\n",
      " Codifico usando una fuente que toma 2 símbolos consecutivos\n",
      "--------------------------------------------------------------------------------\n",
      "Tiempo para crear tabla de frecuencias:  0.6237826347351074\n",
      "Entropía por símbolo:  3.9270647087612174\n",
      "Ratio de compresión máxima estimada sin diccionario:  2.037144939871281\n",
      "Tiempo para crear código Huffman:  0.08007550239562988\n",
      "Tiempo para codificar:  0.19551587104797363\n",
      "\n",
      " Ratio de compresión:  2.030553808481733 14344224 --> 7064193 (bits)\n",
      "\n",
      " Ratio de compresión estimada con diccionario:  2.0206339795063246 14344224 --> 7098873 (bits)\n",
      "\n",
      " Tamaño Huffman     : 887359 bytes\n",
      "\n",
      " Tamaño Fichero .bz2: 518588 bytes\n",
      "\n",
      " Tamaño Fichero .zip: 678394 bytes\n",
      "\n",
      " Tamaño Fichero  .gz: 710464 bytes\n",
      "\n",
      " Tiempo Encode (Tabla frecuencias+Código Huffman+Codificación): 0.91117262840271\n",
      "\n",
      " Tiempo Decode: 0.7272112369537354\n",
      "\n",
      "\n",
      "--------------------------------------------------------------------------------\n",
      " Codifico usando una fuente que toma 3 símbolos consecutivos\n",
      "--------------------------------------------------------------------------------\n",
      "Tiempo para crear tabla de frecuencias:  0.46556568145751953\n",
      "Entropía por símbolo:  3.542521001298286\n",
      "Ratio de compresión máxima estimada sin diccionario:  2.2582787786065652\n",
      "Tiempo para crear código Huffman:  2.976529598236084\n",
      "Tiempo para codificar:  0.1993095874786377\n",
      "\n",
      " Ratio de compresión:  2.252255242605899 14344224 --> 6368827 (bits)\n",
      "\n",
      " Ratio de compresión estimada con diccionario:  2.1488846393251433 14344224 --> 6675195 (bits)\n",
      "\n",
      " Tamaño Huffman     : 834399 bytes\n",
      "\n",
      " Tamaño Fichero .bz2: 518588 bytes\n",
      "\n",
      " Tamaño Fichero .zip: 678394 bytes\n",
      "\n",
      " Tamaño Fichero  .gz: 710464 bytes\n",
      "\n",
      " Tiempo Encode (Tabla frecuencias+Código Huffman+Codificación): 4.068371057510376\n",
      "\n",
      " Tiempo Decode: 0.6828961372375488\n",
      "\n",
      "\n",
      "--------------------------------------------------------------------------------\n",
      " Codifico usando una fuente que toma 4 símbolos consecutivos\n",
      "--------------------------------------------------------------------------------\n",
      "Tiempo para crear tabla de frecuencias:  0.4438338279724121\n",
      "Entropía por símbolo:  3.2049578962185272\n",
      "Ratio de compresión máxima estimada sin diccionario:  2.496132635451797\n",
      "Tiempo para crear código Huffman:  35.41773271560669\n",
      "Tiempo para codificar:  0.24241209030151367\n",
      "\n",
      " Ratio de compresión:  2.4904792396170308 14344224 --> 5759624 (bits)\n",
      "\n",
      " Ratio de compresión estimada con diccionario:  2.0153107272876456 14344224 --> 7117624 (bits)\n",
      "\n",
      " Tamaño Huffman     : 889703 bytes\n",
      "\n",
      " Tamaño Fichero .bz2: 518588 bytes\n",
      "\n",
      " Tamaño Fichero .zip: 678394 bytes\n",
      "\n",
      " Tamaño Fichero  .gz: 710464 bytes\n",
      "\n",
      " Tiempo Encode (Tabla frecuencias+Código Huffman+Codificación): 41.28862428665161\n",
      "\n",
      " Tiempo Decode: 0.7026417255401611\n"
     ]
    }
   ],
   "source": [
    "with open (\"../standard_test_text/la_regenta_utf8\", \"r\") as myfile:\n",
    "    mensaje=myfile.read()\n",
    "\n",
    "\n",
    "for n_simbolos in range(1,5):\n",
    "    \n",
    "    print('\\n\\n--------------------------------------------------------------------------------')\n",
    "    print(' Codifico usando una fuente que toma '+str(n_simbolos)+ ' símbolos consecutivos')\n",
    "    print('--------------------------------------------------------------------------------')\n",
    "\n",
    "    t0=time.time()    \n",
    "    mensaje_codificado, m2c,len_M=EncodeHuffman(mensaje,numero_de_simbolos=n_simbolos)\n",
    "    t_encode=time.time()-t0\n",
    "    ratio_compresion=8*len(mensaje)/len(mensaje_codificado)\n",
    "    ratio_compresion_con_diccionario=8*len(mensaje)/(len(mensaje_codificado)+len(m2c)*8*(n_simbolos+1))\n",
    "    print('\\n Ratio de compresión: ', ratio_compresion ,8*len(mensaje),\"-->\",len(mensaje_codificado),'(bits)')\n",
    "    print('\\n Ratio de compresión estimada con diccionario: ', ratio_compresion_con_diccionario,8*len(mensaje),\"-->\",len(mensaje_codificado)+len(m2c)*8*(n_simbolos+1),'(bits)')\n",
    "\n",
    "    print('\\n Tamaño Huffman     :',int((len(mensaje_codificado)+len(m2c)*8*(n_simbolos+1))/8),'bytes')\n",
    "    print('\\n Tamaño Fichero .bz2: 518588 bytes')\n",
    "    print('\\n Tamaño Fichero .zip: 678394 bytes')\n",
    "    print('\\n Tamaño Fichero  .gz: 710464 bytes')\n",
    "\n",
    "    t0=time.time()\n",
    "    mensaje_recuperado=DecodeHuffman(mensaje_codificado,m2c,len_M)\n",
    "    t_decode=time.time()-t0\n",
    "    print(\"\\n Tiempo Encode (Tabla frecuencias+Código Huffman+Codificación):\", t_encode)\n",
    "    print(\"\\n Tiempo Decode:\", t_decode)\n",
    "    if (mensaje!=mensaje_recuperado):\n",
    "            print('!!!!!!!!!!!!!!!!!!!!!!!!!!!!!!!!!!!!!!!!!!!!')\n",
    "\n"
   ]
  },
  {
   "cell_type": "code",
   "execution_count": 16,
   "id": "surgical-bobby",
   "metadata": {},
   "outputs": [
    {
     "name": "stdout",
     "output_type": "stream",
     "text": [
      "[0.07228915662650602, 0.24096385542168675, 0.1927710843373494, 0.24096385542168675, 0.25301204819277107]\n",
      "[[0.07228915662650602, '110'], [0.24096385542168675, '00'], [0.1927710843373494, '111'], [0.24096385542168675, '01'], [0.25301204819277107, '10']] \n",
      "\n",
      "Longitud Media: 2.2650602409638556\n"
     ]
    }
   ],
   "source": [
    "p=[6/83,20/83,16/83,20/83,21/83]\n",
    "codigo=Huffman(p)\n",
    "# codigo = ['0','100','101','110','1110','1111']\n",
    "print(p)\n",
    "print([[p[i],codigo[i]] for i in range(len(p))], '\\n\\nLongitud Media:',LongitudMedia(codigo,p))"
   ]
  },
  {
   "cell_type": "code",
   "execution_count": 46,
   "id": "synthetic-lotus",
   "metadata": {},
   "outputs": [
    {
     "name": "stdout",
     "output_type": "stream",
     "text": [
      "{' ': 139, ',': 8, '-': 1, '.': 16, ';': 1, 'A': 2, 'B': 3, 'D': 1, 'E': 3, 'G': 3, 'H': 2, 'I': 16, 'K': 1, 'L': 2, 'M': 2, 'N': 2, 'O': 3, 'T': 5, 'U': 1, 'V': 2, 'W': 1, '[': 1, ']': 1, 'a': 47, 'b': 9, 'c': 12, 'd': 25, 'e': 61, 'f': 12, 'g': 5, 'h': 24, 'i': 22, 'k': 5, 'l': 23, 'm': 15, 'n': 27, 'o': 35, 'p': 8, 'r': 28, 's': 33, 't': 45, 'u': 14, 'v': 4, 'w': 11, 'x': 1, 'y': 14}\n",
      "['00', '1111001', '010110110', '111110', '010110111', '111100011', '10010101', '010111000', '10010110', '10010111', '01010110', '111111', '010111001', '01010111', '01011000', '01011001', '11110000', '0101111', '010111010', '01011010', '010111011', '100101000', '100101001', '1010', '011100', '101110', '11000', '1110', '101111', '0111010', '10110', '01111', '0111011', '10011', '111101', '11001', '0110', '010100', '11010', '0100', '1000', '110110', '0101010', '100100', '111100010', '110111']\n",
      "68.10869565217389\n",
      "80.93478260869564\n"
     ]
    }
   ],
   "source": [
    "mensaje = \"The Island of Doctor Moreau, by H. G. Wells. [...] Abruptly the cruelty of this desertion became clear to me. I had no means of reaching the land unless I should chance to drift there. I was still weak, you must remember, from my exposure in the boat; I was empty and very faint, or I should have had more heart. But as it was I suddenly began to sob and weep, as I had never done since I was a little child. The tears ran down my face. In a passion of despair I struck with my fists at the water in the bottom of the boat, and kicked savagely at the gunwale. I prayed aloud for God to let me die. VI. THE EVIL-LOOKING BOATMEN. BUT the islanders, seeing that I was really adrift, took pity on me.\"\n",
    "frecs = tablaFrecuencias(mensaje)\n",
    "frecs = dict(sorted(frecs.items()))\n",
    "print(frecs)\n",
    "n = len(frecs)\n",
    "\n",
    "probs = []\n",
    "for c in frecs:\n",
    "    probs.append(frecs[c]/n)\n",
    "codigo = Huffman(probs)\n",
    "print(codigo)\n",
    "longitud_1 = LongitudMedia(codigo, probs)\n",
    "codigo_2 = ['00', '110010', '110011', '11110010', '111110110', '1111111010', '1111111011', '111110111', '1111111100', '111111000', '110100', '1111111101', '1111111110', '11110011', '111111001', '11110100', '1110110', '11110101', '111111010', '11110110', '11110111', '0100', '11111000', '1110111', '10100', '0101', '110101', '110110', '10101', '10110', '111111011', '1111000', '10111', '110111', '0110', '0111', '11111001', '11111010', '11000', '1000', '1001', '111000', '111111100', '111001', '1111111111', '111010']\n",
    "longitud_2 = LongitudMedia(codigo_2,probs)\n",
    "print(longitud_1)\n",
    "print(longitud_2)\n"
   ]
  },
  {
   "cell_type": "code",
   "execution_count": 29,
   "id": "southern-yesterday",
   "metadata": {},
   "outputs": [
    {
     "name": "stdout",
     "output_type": "stream",
     "text": [
      "4.0068\n",
      "5.346700000000001\n"
     ]
    }
   ],
   "source": [
    "probs = [0.0432, 0.0475, 0.049, 0.0278, 0.0285, 0.0829, 0.0834, 0.0285, 0.0136, 0.0751, 0.0171, 0.1032, 0.0267, 0.095, 0.0192, 0.1056, 0.0206, 0.0265, 0.1066]\n",
    "codigo = Huffman(probs)\n",
    "longitud_1 = LongitudMedia(codigo, probs)\n",
    "print(longitud_1)\n",
    "lista_codigos = ['01101', '01011010', '01110', '011110', '01001', '011111', '010111', '01100', '0011', '0000', '01011011', '1', '010110000', '01000', '0010', '01011001', '010110001', '0001', '01010']\n",
    "Longitud_2 = LongitudMedia(lista_codigos, probs)\n",
    "print(Longitud_2)\n",
    "# codigos = []\n",
    "# for c in lista_codigos:\n",
    "#     codigos.append(int(c))\n",
    "# print(codigos)"
   ]
  },
  {
   "cell_type": "code",
   "execution_count": 58,
   "id": "turned-cleveland",
   "metadata": {},
   "outputs": [],
   "source": [
    "def Encode(M, m2c):\n",
    "    C = ''\n",
    "    i = 0\n",
    "    n = len(M)\n",
    "    c = ''\n",
    "    while i < n:\n",
    "        c += M[i]\n",
    "        if c in m2c:\n",
    "            C += m2c[c]\n",
    "            c = ''\n",
    "        i += 1\n",
    "    return C\n",
    "def Decode(C,c2m):\n",
    "    M = ''\n",
    "    i = 0\n",
    "    n = len(C)\n",
    "    c = ''\n",
    "    while i < n:\n",
    "        c += C[i]\n",
    "        if c in c2m:\n",
    "            M += c2m[c]\n",
    "            c = ''\n",
    "        i += 1\n",
    "    return M"
   ]
  },
  {
   "cell_type": "code",
   "execution_count": 77,
   "id": "answering-details",
   "metadata": {},
   "outputs": [
    {
     "name": "stdout",
     "output_type": "stream",
     "text": [
      "68.10869565217389\n",
      "68.10869565217389\n"
     ]
    }
   ],
   "source": [
    "\n",
    "mensaje = \"The Island of Doctor Moreau, by H. G. Wells. [...] Abruptly the cruelty of this desertion became clear to me. I had no means of reaching the land unless I should chance to drift there. I was still weak, you must remember, from my exposure in the boat; I was empty and very faint, or I should have had more heart. But as it was I suddenly began to sob and weep, as I had never done since I was a little child. The tears ran down my face. In a passion of despair I struck with my fists at the water in the bottom of the boat, and kicked savagely at the gunwale. I prayed aloud for God to let me die. VI. THE EVIL-LOOKING BOATMEN. BUT the islanders, seeing that I was really adrift, took pity on me.\"\n",
    "frecs = tablaFrecuencias(mensaje)\n",
    "frecs = dict(sorted(frecs.items()))\n",
    "# print(frecs)\n",
    "n = len(frecs)\n",
    "\n",
    "probs = []\n",
    "for c in frecs:\n",
    "    probs.append(frecs[c]/n)\n",
    "codigo = Huffman(probs)\n",
    "codigo_Dado = ['00', '1110110', '1111111000', '110010', '1111111001', '111110110', '11110110', '1111111010', '11110111', '11111000', '111110111', '10010', '1111111011', '111111000', '111111001', '111111010', '11111001', '1110111', '1111111100', '11111010', '1111111101', '1111111110', '111111011', '0100', '110011', '110100', '10011', '0101', '110101', '1111000', '10100', '10101', '1111001', '10110', '110110', '10111', '0110', '110111', '11000', '0111', '1000', '111000', '1111010', '111001', '1111111111', '111010']\n",
    "m2c = {}\n",
    "c2m = {}\n",
    "i = 0\n",
    "for key in frecs.keys():\n",
    "    m2c[key] = codigo[i]\n",
    "    c2m[codigo[i]] = key\n",
    "    i += 1\n",
    "i = 0\n",
    "codificado = Encode(mensaje, m2c)\n",
    "decodificado = Decode(codificado, c2m)\n",
    "# decodificado == mensaje\n",
    "print(LongitudMedia(codigo,probs))\n",
    "print(LongitudMedia(codigo_Dado,probs))\n",
    "# print(decodificado)"
   ]
  },
  {
   "cell_type": "code",
   "execution_count": null,
   "id": "waiting-jason",
   "metadata": {},
   "outputs": [],
   "source": []
  }
 ],
 "metadata": {
  "kernelspec": {
   "display_name": "Python 3",
   "language": "python",
   "name": "python3"
  },
  "language_info": {
   "codemirror_mode": {
    "name": "ipython",
    "version": 3
   },
   "file_extension": ".py",
   "mimetype": "text/x-python",
   "name": "python",
   "nbconvert_exporter": "python",
   "pygments_lexer": "ipython3",
   "version": "3.8.8"
  }
 },
 "nbformat": 4,
 "nbformat_minor": 5
}
