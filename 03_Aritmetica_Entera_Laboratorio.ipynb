{
 "cells": [
  {
   "cell_type": "markdown",
   "id": "affecting-universe",
   "metadata": {
    "execution": {
     "iopub.execute_input": "2021-03-05T08:13:41.021068Z",
     "iopub.status.busy": "2021-03-05T08:13:41.020706Z",
     "iopub.status.idle": "2021-03-05T08:13:41.039843Z",
     "shell.execute_reply": "2021-03-05T08:13:41.038709Z",
     "shell.execute_reply.started": "2021-03-05T08:13:41.021028Z"
    }
   },
   "source": [
    "**Definir una función** `IntegerArithmeticCode(mensaje, alfabeto, frecuencias)` **que dado un $mensaje$ en el que se ha utilizado el $alfabeto$ con las correspondientes $frecuencias$ devuelva el resultado de codificar dicho mensaje usando codificación aritmética entera en el intervalo de trabajo $[0,R)$.**\n",
    "\n",
    "\n",
    "Frecuencias: $f(1)$,..., $f(n)$, $f(i)$ entero\n",
    "\n",
    "Frecuencias acumuladas:\n",
    "\n",
    "* $F(0)=0$, \n",
    "* $F(i)=\\sum_{k=1}^{i}f(k)$,\n",
    "* $T=F(n)$ suma total de frecuencias\n",
    "\n",
    "\n",
    "Intervalo de trabajo: $[0,R)$, $R=2^k$, $R>4T$\n"
   ]
  },
  {
   "cell_type": "code",
   "execution_count": null,
   "id": "light-bristol",
   "metadata": {},
   "outputs": [],
   "source": [
    "import math as mt"
   ]
  },
  {
   "cell_type": "code",
   "execution_count": null,
   "id": "instructional-waste",
   "metadata": {},
   "outputs": [],
   "source": [
    "def needE1(m, M, R):\n",
    "    return m >= 0 and M < R/2\n",
    "\n",
    "def needE2(m, M, R):\n",
    "    return m >= R/2 and M < R\n",
    "\n",
    "def needE3(m, M, R):\n",
    "    return m >= R/4 and M < (3*R)/4\n",
    "\n",
    "def applyE1(m,M):\n",
    "    return (2*m, mt.floor(2*(M+0.5)))\n",
    "\n",
    "def applyE2(m,M,R):\n",
    "    return (2*m-R, mt.floor(2*(M+0.5))-R)\n",
    "\n",
    "def applyE3(m,M,R):\n",
    "    return (2*m-R//2, mt.floor(2*(M+0.5))-R//2)"
   ]
  },
  {
   "cell_type": "code",
   "execution_count": 130,
   "id": "accomplished-tunisia",
   "metadata": {},
   "outputs": [],
   "source": [
    "def IntegerArithmeticCode(mensaje, alfabeto, frecuencias):\n",
    "    F = {}\n",
    "    ind = {}\n",
    "    n = len(alfabeto)\n",
    "    F[0] = 0\n",
    "    for i in range(0, n):\n",
    "        c = alfabeto[i]\n",
    "        ind[c] = i + 1 \n",
    "    T = 0\n",
    "    for i in range(1, n + 1):\n",
    "        T += frecuencias[i-1]\n",
    "        F[i] = T\n",
    "    k = mt.ceil(mt.log(4*T, 2))\n",
    "    R = 2**k\n",
    "    m = 0\n",
    "    M = R - 1\n",
    "    d = M - m + 1\n",
    "    interval = [0]\n",
    "    for i in range(1, n+1): interval.append(mt.floor(m + d*(F[i]/T)))\n",
    "    codigo = \"\"\n",
    "#     print(interval)\n",
    "    bits_acc = 0\n",
    "    for c in mensaje:\n",
    "        num = ind[c]\n",
    "        m = interval[num-1]\n",
    "        M = interval[num]-1\n",
    "#         print(\"leo: \"+c, interval, \", nuevoIntervalo: [\"+str(m)+\",\"+str(M)+\"]\")\n",
    "        N1 = needE1(m,M,R)\n",
    "        N2 = needE2(m,M,R)\n",
    "        N3 = needE3(m,M,R)\n",
    "        while N1 or N2 or N3:\n",
    "            if N1:\n",
    "                (m,M) = applyE1(m,M)\n",
    "#                 print(\"Rescalado E1\")\n",
    "                codigo += '0'\n",
    "                if bits_acc > 0: \n",
    "                    codigo += bits_acc*'1'\n",
    "                    bits_acc = 0\n",
    "            elif N2:\n",
    "                (m,M) = applyE2(m,M,R)\n",
    "#                 print(\"Rescalado E2\")\n",
    "                codigo += '1'\n",
    "                if bits_acc > 0: \n",
    "                    codigo += bits_acc*'0'\n",
    "                    bits_acc = 0\n",
    "            elif N3:\n",
    "                (m,M) = applyE3(m,M,R)\n",
    "#                 print(\"Rescalado E3\")\n",
    "                bits_acc += 1\n",
    "#             print(codigo, \"nuevoIntervalo: [\"+str(m)+\",\"+str(M)+\"]\")\n",
    "            N1 = needE1(m,M,R)\n",
    "            N2 = needE2(m,M,R)\n",
    "            N3 = needE3(m,M,R)\n",
    "        d = M - m + 1\n",
    "        interval[0] = m\n",
    "        for i in range(1, n+1):interval[i] = mt.floor(m + d*(F[i]/T))\n",
    "    print(m, M)\n",
    "    #Cerramos el codigo\n",
    "    if (R//4 >= m and R//4 <= M and R//2 >= m and R//2 <= M):\n",
    "        codigo += '01'\n",
    "        if bits_acc > 0:codigo += bits_acc*'1'\n",
    "    elif (R//2 >= m and R//2 <= M and 3*R//4 >= m and 3*R//2 <= M):\n",
    "        codigo += '10'\n",
    "        if bits_acc > 0: codigo += bits_acc*'0'\n",
    "    #concatenamos m en k bits        \n",
    "    fin = bin(m)[2:]\n",
    "    fin = (k-len(fin))*'0' + fin\n",
    "    codigo += fin\n",
    "    return codigo      \n",
    " "
   ]
  },
  {
   "cell_type": "markdown",
   "id": "suitable-lingerie",
   "metadata": {
    "execution": {
     "iopub.execute_input": "2021-03-05T08:51:17.911851Z",
     "iopub.status.busy": "2021-03-05T08:51:17.911617Z",
     "iopub.status.idle": "2021-03-05T08:51:17.915328Z",
     "shell.execute_reply": "2021-03-05T08:51:17.914572Z",
     "shell.execute_reply.started": "2021-03-05T08:51:17.911829Z"
    }
   },
   "source": [
    "### Ejemplo\n",
    "Atención, el código final no es único.\n",
    "\n",
    "El proceso para finalizar/cerrar el código ha sido:\n",
    "\n",
    "* Bits finales pendientes del rescalado: \n",
    "Una vez leído todo el mensaje y hecho todos los reescalados posibles el intervalo $[m,M)$ no puede estar contenido en $[0,\\frac{R}{2})$, ni en $[\\frac{R}{4}, \\frac{3R}{4})$, ni en $[\\frac{R}{2}, R)$; por lo tanto $[m,M)$ contiene \n",
    "$\\frac{R}{4}$ y $\\frac{R}{2}$, o $\\frac{R}{2}$ y $\\frac{4R}{4}$. Para asegurarnos que enviamos un número del intervalo en un caso enviamos 01.... y en el otro 10..... \n",
    "\n",
    "    \n",
    "* Envío $m$ representado por exactamente $k$ bits.\n"
   ]
  },
  {
   "cell_type": "code",
   "execution_count": null,
   "id": "acoustic-tourist",
   "metadata": {},
   "outputs": [],
   "source": [
    "'''\n",
    "EJEMPLO\n",
    "'''        \n",
    "alfabeto=['a','b','c','d']\n",
    "frecuencias=[1,10,20,300]\n",
    "mensaje='dddcabccacabadac'   \n",
    "print(\"\\n\\n\\n\")\n",
    "print(alfabeto)\n",
    "print(frecuencias)\n",
    "print(mensaje)\n",
    "print(\"\\n\\n\\n\")\n",
    "C = IntegerArithmeticCode(mensaje,alfabeto,frecuencias)\n",
    "print(C, len(C),len(mensaje))"
   ]
  },
  {
   "cell_type": "code",
   "execution_count": null,
   "id": "interior-beijing",
   "metadata": {},
   "outputs": [],
   "source": [
    "mensaje= \"The Island of Doctor Moreau, by H. G. Wells. [...] I answered him as briefly, in fragmentary sentences. Tell me what it all means, said I, in a state bordering on hysterics. It's nothing so very dreadful, said he. But I think you have had about enough for one day. The puma suddenly gave a sharp yell of pain. At that he swore under his breath.\"\n",
    "\n",
    "alfabeto = [' ', \"'\", ',', '.', 'A', 'B', 'D', 'G', 'H', 'I', 'M', 'T', 'W', '[', ']', 'a', 'b', 'c', 'd', 'e', 'f', 'g', 'h', 'i', 'k', 'l', 'm', 'n', 'o', 'p', 'r', 's', 't', 'u', 'v', 'w', 'y']\n",
    "\n",
    "frecuencias = [65, 1, 5, 12, 1, 1, 1, 1, 1, 5, 1, 3, 1, 1, 1, 25, 5, 3, 12, 30, 6, 5, 16, 13, 1, 12, 5, 18, 15, 3, 16, 18, 17, 9, 3, 3, 9]\n",
    "C = IntegerArithmeticCode(mensaje,alfabeto,frecuencias)\n",
    "print(C[:1000], len(C[:1000]),len(mensaje))"
   ]
  },
  {
   "cell_type": "code",
   "execution_count": null,
   "id": "southwest-heading",
   "metadata": {},
   "outputs": [],
   "source": [
    "mensaje= \"The Island of Doctor Moreau, by H. G. Wells. [...] Don't kill it, Prendick! cried Moreau. Don't kill it! and I saw him stooping as he pushed through under the fronds of the big ferns. In another moment he had beaten off the Hyena-swine with the handle of his whip, and he and Montgomery were keeping away the excited carnivorous Beast People, and particularly M'ling, from the still quivering body.\"\n",
    "\n",
    "alfabeto = [' ', '!', \"'\", ',', '-', '.', 'B', 'D', 'G', 'H', 'I', 'M', 'P', 'T', 'W', '[', ']', 'a', 'b', 'c', 'd', 'e', 'f', 'g', 'h', 'i', 'k', 'l', 'm', 'n', 'o', 'p', 'q', 'r', 's', 't', 'u', 'v', 'w', 'x', 'y']\n",
    "\n",
    "frecuencias = [69, 2, 3, 5, 1, 9, 1, 3, 1, 2, 3, 4, 2, 1, 1, 1, 1, 20, 4, 6, 14, 36, 8, 7, 20, 21, 4, 14, 5, 24, 23, 6, 1, 18, 13, 22, 8, 2, 6, 1, 6]\n",
    "C = IntegerArithmeticCode(mensaje,alfabeto,frecuencias)\n",
    "print(C[:1000], len(C[:1000]),len(mensaje))"
   ]
  },
  {
   "cell_type": "markdown",
   "id": "southeast-cutting",
   "metadata": {},
   "source": [
    "**Definir una función** `IntegerArithmeticDecode(codigo, longitud_mensaje, alfabeto, frecuencias)` **que dado un mensaje codificado $codigo$ usando codificación aritmética entera en el intervalo de trabajo $[0,R)$  en el que se ha utilizado el $alfabeto$ con las correspondientes $frecuencias$ devuelva el mensaje original de de longitud $longitud\\_mensaje$.**\n",
    "\n"
   ]
  },
  {
   "cell_type": "code",
   "execution_count": null,
   "id": "mysterious-spiritual",
   "metadata": {},
   "outputs": [],
   "source": [
    "def applyE1_(m,M, num):\n",
    "    return (2*m, mt.floor(2*(M+0.5)), 2*num)\n",
    "\n",
    "def applyE2_(m,M,R,num):\n",
    "    return (2*m-R, mt.floor(2*(M+0.5))-R, 2*num-R)\n",
    "\n",
    "def applyE3_(m,M,R,num):\n",
    "    return (2*m-R//2, mt.floor(2*(M+0.5))-R//2, 2*num-R//2)"
   ]
  },
  {
   "cell_type": "code",
   "execution_count": 98,
   "id": "southern-fundamentals",
   "metadata": {},
   "outputs": [],
   "source": [
    "def bin_to_dec(b):\n",
    "    num = 0\n",
    "    n = len(b)\n",
    "    for i in range(0,n):\n",
    "        if (b[i]=='1'): num += 2**(n-i-1)\n",
    "    return num\n",
    "def which_interval(n, interval):\n",
    "    for i in range(0, len(interval)-1):\n",
    "        if n >= interval[i] and n < interval[i+1]: return i\n",
    "        \n",
    "def IntegerArithmeticDecode(codigo, longitud_mensaje, alfabeto, frecuencias):\n",
    "    F = {}\n",
    "    ind = {}\n",
    "    n = len(alfabeto)\n",
    "    F[0] = 0\n",
    "    for i in range(0, n):\n",
    "        c = alfabeto[i]\n",
    "        ind[c] = i + 1 \n",
    "    T = 0\n",
    "    for i in range(1, n + 1):\n",
    "        T += frecuencias[i-1]\n",
    "        F[i] = T\n",
    "    print(F)\n",
    "    k = mt.ceil(mt.log(4*T, 2))\n",
    "    R = 2**k\n",
    "    m = 0\n",
    "    M = R - 1\n",
    "    d = M - m + 1\n",
    "    interval = []\n",
    "    interval.append(m)\n",
    "    for i in range(1, n+1): interval.append(mt.floor(m + d*(F[i]/T)))\n",
    "    mensaje = \"\"\n",
    "    n_bin = codigo[:k]\n",
    "    num = bin_to_dec(n_bin)\n",
    "    for i in range(0, longitud_mensaje):\n",
    "        indice = which_interval(num, interval)\n",
    "        mensaje += alfabeto[indice]\n",
    "        m = interval[indice]\n",
    "        M = interval[indice + 1] - 1\n",
    "        \n",
    "#         print(\"Intervalo: \",interval)\n",
    "#         print(num)\n",
    "#         print(\"Simbolo: \"+alfabeto[indice])\n",
    "#         print(\"Mensaje: \"+mensaje)\n",
    "#         print(\"Nuevo Intervalo: \", m, \"|\", num, \"|\", M+1)\n",
    "#         print()\n",
    "        \n",
    "        N1 = needE1(m,M,R)\n",
    "        N2 = needE2(m,M,R)\n",
    "        N3 = needE3(m,M,R)\n",
    "        while N1 or N2 or N3:\n",
    "            if N1:\n",
    "                (m,M,num) = applyE1_(m,M,num)\n",
    "#                 print(\"Rescalado E1\")\n",
    "            elif N2:\n",
    "                (m,M,num) = applyE2_(m,M,R, num)\n",
    "#                 print(\"Rescalado E2\")\n",
    "            elif N3:\n",
    "                (m,M,num) = applyE3_(m,M,R, num)\n",
    "#                 print(\"Rescalado E3\")\n",
    "            last_bit = codigo[k]\n",
    "            if last_bit == '1': num += 1\n",
    "                \n",
    "#             print(\"Last_bit:\", last_bit)\n",
    "#             print(\"Nuevo Intervalo: \", m, \"|\", num, \"|\", M+1)\n",
    "#             print()\n",
    "            \n",
    "            codigo = codigo[1:]\n",
    "            N1 = needE1(m,M,R)\n",
    "            N2 = needE2(m,M,R)\n",
    "            N3 = needE3(m,M,R)\n",
    "    \n",
    "        d = M - m + 1\n",
    "        interval[0] = m\n",
    "        for i in range(1, n+1):interval[i] = mt.floor(m + d*(F[i]/T))\n",
    "    return mensaje[:longitud_mensaje]\n"
   ]
  },
  {
   "cell_type": "markdown",
   "id": "suspected-decrease",
   "metadata": {},
   "source": [
    "### Ejemplo"
   ]
  },
  {
   "cell_type": "code",
   "execution_count": 99,
   "id": "aquatic-ontario",
   "metadata": {},
   "outputs": [
    {
     "name": "stdout",
     "output_type": "stream",
     "text": [
      "\n",
      "\n",
      "\n",
      "\n",
      "['a', 'b', 'c', 'd']\n",
      "[1, 10, 20, 300]\n",
      "\n",
      "\n",
      "\n",
      "\n",
      "{0: 0, 1: 1, 2: 11, 3: 31, 4: 331}\n",
      "64 2015\n",
      "010001110110000000001000000111111000000100010000000000001100000010001111001100001000000 87 16\n",
      "{0: 0, 1: 1, 2: 11, 3: 31, 4: 331}\n",
      "True\n"
     ]
    }
   ],
   "source": [
    "alfabeto=['a','b','c','d']\n",
    "frecuencias=[1,10,20,300]\n",
    "mensaje='dddcabccacabadac'   \n",
    "   \n",
    "print(\"\\n\\n\\n\")\n",
    "print(alfabeto)\n",
    "print(frecuencias)\n",
    "print(\"\\n\\n\\n\")\n",
    "C = IntegerArithmeticCode(mensaje,alfabeto,frecuencias)\n",
    "print(C, len(C),len(mensaje))\n",
    "mensaje_recuperado=IntegerArithmeticDecode(C,len(mensaje),alfabeto,frecuencias)\n",
    "print(mensaje==mensaje_recuperado)"
   ]
  },
  {
   "cell_type": "code",
   "execution_count": null,
   "id": "inclusive-miniature",
   "metadata": {},
   "outputs": [],
   "source": [
    "### Probabilidades no enteras"
   ]
  },
  {
   "cell_type": "code",
   "execution_count": 73,
   "id": "pretty-faith",
   "metadata": {},
   "outputs": [],
   "source": [
    "def CalculaIntervalo(mensaje, alfabeto, frecuencias):\n",
    "    F = {}\n",
    "    F[0] = 0\n",
    "    T = 0\n",
    "    ind = {}\n",
    "    n = len(alfabeto)\n",
    "    for i in range(0, len(alfabeto)):\n",
    "        ind[alfabeto[i]] = i+1\n",
    "    for i in range(1, n + 1):\n",
    "        T += frecuencias[i-1]\n",
    "        F[i] = T\n",
    "\n",
    "    m = 0\n",
    "    M = T\n",
    "    d = M - m\n",
    "    \n",
    "    interval = []\n",
    "    interval.append(m)\n",
    "    for i in range(1, n+1):interval.append(m + d*F[i])\n",
    "    \n",
    "    for c in mensaje:\n",
    "        indice = ind[c]\n",
    "        new_m = interval[indice-1]\n",
    "        new_M = interval[indice]\n",
    "        m = new_m\n",
    "        M = new_M\n",
    "        d = M-m\n",
    "        interval[0] = m\n",
    "        for i in range(1, n+1):interval[i] = m + d*F[i]\n",
    "    return (m,M)"
   ]
  },
  {
   "cell_type": "code",
   "execution_count": 121,
   "id": "athletic-carnival",
   "metadata": {},
   "outputs": [
    {
     "name": "stdout",
     "output_type": "stream",
     "text": [
      "0.02664375 0.0266775\n",
      "0.02664375 0.0266775\n"
     ]
    },
    {
     "data": {
      "text/plain": [
       "False"
      ]
     },
     "execution_count": 121,
     "metadata": {},
     "output_type": "execute_result"
    }
   ],
   "source": [
    "alfabeto=['a','b','c','d']\n",
    "frecuencias = [0.15, 0.1, 0.15, 0.6]\n",
    "mensaje = 'abcbc'\n",
    "(m,M) = CalculaIntervalo(mensaje,alfabeto,frecuencias)\n",
    "print(m, M)\n",
    "######################################################\n",
    "prob = 0.0266325\n",
    "prob >= m and prob < M"
   ]
  },
  {
   "cell_type": "code",
   "execution_count": 123,
   "id": "hollywood-insertion",
   "metadata": {},
   "outputs": [
    {
     "name": "stdout",
     "output_type": "stream",
     "text": [
      "{0: 0, 1: 129, 2: 130, 3: 136, 4: 145, 5: 148, 6: 164, 7: 166, 8: 170, 9: 171, 10: 172, 11: 173, 12: 174, 13: 176, 14: 182, 15: 184, 16: 188, 17: 189, 18: 190, 19: 191, 20: 192, 21: 195, 22: 196, 23: 197, 24: 198, 25: 236, 26: 249, 27: 264, 28: 285, 29: 343, 30: 354, 31: 364, 32: 393, 33: 421, 34: 422, 35: 434, 36: 446, 37: 455, 38: 490, 39: 535, 40: 537, 41: 569, 42: 610, 43: 656, 44: 681, 45: 684, 46: 697, 47: 709}\n",
      "{0: 0, 1: 129, 2: 130, 3: 136, 4: 145, 5: 148, 6: 164, 7: 166, 8: 170, 9: 171, 10: 172, 11: 173, 12: 174, 13: 176, 14: 182, 15: 184, 16: 188, 17: 189, 18: 190, 19: 191, 20: 192, 21: 195, 22: 196, 23: 197, 24: 198, 25: 236, 26: 249, 27: 264, 28: 285, 29: 343, 30: 354, 31: 364, 32: 393, 33: 421, 34: 422, 35: 434, 36: 446, 37: 455, 38: 490, 39: 535, 40: 537, 41: 569, 42: 610, 43: 656, 44: 681, 45: 684, 46: 697, 47: 709}\n",
      "1408 3967\n",
      "The Island of Doctor Moreau, by H. G. Wells. [...] It's only a suspicion, you know. Before I came on the rabbit I saw one of your monsters drinking in the stream. Sucking his drink? Yes. 'Not to suck your drink; that is the Law.' Much the brutes care for the Law, eh? when Moreau's not about! It was the brute who chased me. Of course, said Montgomery; it's just the way with carnivores. After a kill, they drink. It's the taste of blood, you know.--What was the brute like? he continued. Would you know him again? He glanced about us, standing astride over the mess of dead rabbit, his eyes roving among the shadows and screens of greenery, the lurking-places and ambuscades of the forest that bounded us in.\n",
      "709\n",
      "3194 3192\n"
     ]
    }
   ],
   "source": [
    "mensaje_codificado = \"01000101001000101101100011010010110100011100001110011011011100100001010100111110110111000111110100110100011010101010010110000000010000101101010100000100100010010001110111110001011010000100011010100101010111000001000000100011101110001101101010101000010101010000101111100011010000100101011101101000110110011110110101000000111101111010111111010111110110101001111011101111000100100110000000001010101101001100110100101101110110010100111010111110010101110011000001111110000010110100011010011101101111011101110001010000111001111101011100010001010111110100100101011100111111111000101011111111101000100101010010001110000001101100010111001110000011010101010010010000110001101110000100000011111110001100100111110101000100001000000110000101101110010011001101001000100111010100000101000101110011100100110011000010001101111101011011010100011110010110100010110011001111011111101100110111000111101100111111000001100111101111001110010110111010010011111001000110000100110001001000010110110001101101110010011001011010000010100111000011010011001101000111000001010010110000000001100110100000000011000010111100110000110101101010001110011011100110101101001010111101001011001011111010100100010000100010000000100001010101001011111010111000110011100010000001111110110011101000100101000010111010000010010110110110001010101100001011111011101110101110010010111000110100010111110001100101100001001100100011000001100001001101001100101000001111011001101000000000010101101000011000101010000110010001001111110010110010011101000100100010100100001010011111110011111101010011110010011101100010010100100001001011110000101011111101001100001110001110111111110110101010010000100000111010010001010100011000001101011011100111110000011000110101000110011100100000110000010100111000000001110101001101000101001011000000001011111011111010111110011100111101000000001011110001001001011000111011001100010101101111110010111000001110010000001101111011101111111000110100110011011111101101111000000011110110001000010011000000111101100011000011001100000100100011111101101110010010001100111100011001000101001000111010001000011110110010011100100100111100000010111110011100111001110111011101001000010101011100001000001011110110011010101010011111100101101010110010001000111100001010001011100000010000100100000110110000001111101010111110010100101100001000100010101010110110010000110101011101011010101101100111010000110000100101111101010001011111110110010001000110011001001101101101110100010011110110001111001001111000001111100110100100000010111010100110111000100110000101101011001101010010011001000101110110101011001010100011011000001100001010010000100011111100100000110111101101011101001111111111010101110111010100100100000010010011010001111110001111100111001001100000001100110010110010100001000111000100111010011101000010110110100100111111011100011100110111001111101001110111101101001101111001100100010110010000010011100101101110111111011111110000001100101110001011011100111000000110110101010100110111001100100101100010101111010101100110010001110101101001110011110111110010010111000101110110110001011100000010111001011111011010110000001101101001010011100101011010111100111000010110011110111010010001010101011100000000001010111110101001101010010110000000\"\n",
    "alfabeto = [' ', '!', \"'\", ',', '-', '.', ';', '?', 'A', 'B', 'D', 'G', 'H', 'I', 'L', 'M', 'N', 'O', 'S', 'T', 'W', 'Y', '[', ']', 'a', 'b', 'c', 'd', 'e', 'f', 'g', 'h', 'i', 'j', 'k', 'l', 'm', 'n', 'o', 'p', 'r', 's', 't', 'u', 'v', 'w', 'y']\n",
    "frecuencias = [129, 1, 6, 9, 3, 16, 2, 4, 1, 1, 1, 1, 2, 6, 2, 4, 1, 1, 1, 1, 3, 1, 1, 1, 38, 13, 15, 21, 58, 11, 10, 29, 28, 1, 12, 12, 9, 35, 45, 2, 32, 41, 46, 25, 3, 13, 12]\n",
    "Longitud = 709\n",
    "\n",
    "mensaje = IntegerArithmeticDecode(mensaje_codificado,Longitud,alfabeto,frecuencias)\n",
    "mensaje_recodificado = IntegerArithmeticCode(mensaje, alfabeto, frecuencias)\n",
    "print(mensaje)\n",
    "print(len(mensaje))\n",
    "print(len(mensaje_codificado), len(mensaje_recodificado))"
   ]
  },
  {
   "cell_type": "code",
   "execution_count": 132,
   "id": "general-difficulty",
   "metadata": {},
   "outputs": [
    {
     "name": "stdout",
     "output_type": "stream",
     "text": [
      "832 2079\n",
      "{0: 0, 1: 93, 2: 94, 3: 104, 4: 108, 5: 119, 6: 120, 7: 121, 8: 122, 9: 127, 10: 129, 11: 131, 12: 132, 13: 133, 14: 134, 15: 169, 16: 171, 17: 183, 18: 206, 19: 250, 20: 258, 21: 269, 22: 289, 23: 314, 24: 316, 25: 333, 26: 351, 27: 391, 28: 418, 29: 428, 30: 429, 31: 446, 32: 469, 33: 507, 34: 520, 35: 522, 36: 533, 37: 541}\n",
      "541 541\n",
      "True\n",
      "0011110101111010101101110110000010001101011001001000100010001010111011111100110111110111100111001110011111111000110100010101011111111100010101000001110110110111010111001100110011010001100110100010110100100111110011010111000111010110011101000001000110000011011000101010010000100000110000011010110010100010101111001011011000110100000110011110000101100001010001001011110011001001111011010111110111111101100001010001110001000100010100111011101011110000010011000110010001110001110011100101001010100111001001111010100100101100011011101101111100101101111001010100111011000000001101101110001100000110101110110110101000010110000111001010001101011001110100011101111011011010001111001001000011001101100110111010110110100010111100111000101111101100010100010010001010100101101100111010010001010011000010010000111111100011001010001011011000000111111011011000101111111011101011011001011011000101000011010010011001010000101110101011100101100110111100000000101111111100001110110110000000110000001010110110011100101110 1000 541\n"
     ]
    }
   ],
   "source": [
    "mensaje = \"The Island of Doctor Moreau, by H. G. Wells. [...] Then I saw, without understanding, the cause of my phantom,--a ruddy glow that came and danced and went upon the wall opposite. I misinterpreted this, fancied it was a reflection of my flickering lamp, and turned again to the stores in the shed. I went on rummaging among them, as well as a one-armed man could, finding this convenient thing and that, and putting them aside for to-morrow's launch. My movements were slow, and the time passed quickly. Insensibly the daylight crept upon me.\"\n",
    "alfabeto = [' ', \"'\", ',', '-', '.', 'D', 'G', 'H', 'I', 'M', 'T', 'W', '[', ']', 'a', 'b', 'c', 'd', 'e', 'f', 'g', 'h', 'i', 'k', 'l', 'm', 'n', 'o', 'p', 'q', 'r', 's', 't', 'u', 'v', 'w', 'y']\n",
    "frecuencias = [93, 1, 10, 4, 11, 1, 1, 1, 5, 2, 2, 1, 1, 1, 35, 2, 12, 23, 44, 8, 11, 20, 25, 2, 17, 18, 40, 27, 10, 1, 17, 23, 38, 13, 2, 11, 8]\n",
    "Longitud = 541\n",
    "\n",
    "C = IntegerArithmeticCode(mensaje,alfabeto,frecuencias)\n",
    "C_decodificado = IntegerArithmeticDecode(C,Longitud,alfabeto,frecuencias)\n",
    "print(len(C_decodificado), len(mensaje))\n",
    "print(C_decodificado == mensaje)\n",
    "print(C[:1000], len(C[:1000]),len(mensaje))"
   ]
  },
  {
   "cell_type": "markdown",
   "id": "backed-arctic",
   "metadata": {},
   "source": [
    "---\n",
    "**Definir una función** `EncodeArithmetic(mensaje)` **que codifique un mensaje utilizando un codificación aritmética entera a partir de las frecuencias de los caracteres del mensaje.**\n"
   ]
  },
  {
   "cell_type": "markdown",
   "id": "personal-moral",
   "metadata": {
    "execution": {
     "iopub.execute_input": "2021-03-05T09:50:30.035818Z",
     "iopub.status.busy": "2021-03-05T09:50:30.035313Z",
     "iopub.status.idle": "2021-03-05T09:50:30.039231Z",
     "shell.execute_reply": "2021-03-05T09:50:30.038539Z",
     "shell.execute_reply.started": "2021-03-05T09:50:30.035752Z"
    }
   },
   "source": [
    "### Ejemplo"
   ]
  },
  {
   "cell_type": "code",
   "execution_count": null,
   "id": "polished-registrar",
   "metadata": {},
   "outputs": [],
   "source": [
    "\n",
    "mensaje='La heroica ciudad dormía la siesta. El viento Sur, caliente y perezoso, empujaba las nubes blanquecinas que se rasgaban al correr hacia el Norte. En las calles no había más ruido que el rumor estridente de los remolinos de polvo, trapos, pajas y papeles que iban de arroyo en arroyo, de acera en acera, de esquina en esquina revolando y persiguiéndose, como mariposas que se buscan y huyen y que el aire envuelve en sus pliegues invisibles. Cual turbas de pilluelos, aquellas migajas de la basura, aquellas sobras de todo se juntaban en un montón, parábanse como dormidas un momento y brincaban de nuevo sobresaltadas, dispersándose, trepando unas por las paredes hasta los cristales temblorosos de los faroles, otras hasta los carteles de papel mal pegado a las esquinas, y había pluma que llegaba a un tercer piso, y arenilla que se incrustaba para días, o para años, en la vidriera de un escaparate, agarrada a un plomo. Vetusta, la muy noble y leal ciudad, corte en lejano siglo, hacía la digestión del cocido y de la olla podrida, y descansaba oyendo entre sueños el monótono y familiar zumbido de la campana de coro, que retumbaba allá en lo alto de la esbelta torre en la Santa Basílica. La torre de la catedral, poema romántico de piedra,delicado himno, de dulces líneas de belleza muda y perenne, era obra del siglo diez y seis, aunque antes comenzada, de estilo gótico, pero, cabe decir, moderado por un instinto de prudencia y armonía que modificaba las vulgares exageraciones de esta arquitectura. La vista no se fatigaba contemplando horas y horas aquel índice de piedra que señalaba al cielo; no era una de esas torres cuya aguja se quiebra desutil, más flacas que esbeltas, amaneradas, como señoritas cursis que aprietan demasiado el corsé; era maciza sin perder nada de su espiritual grandeza, y hasta sus segundos corredores, elegante balaustrada, subía como fuerte castillo, lanzándose desde allí en pirámide de ángulo gracioso, inimitable en sus medidas y proporciones. Como haz de músculos y nervios la piedra enroscándose en la piedra trepaba a la altura, haciendo equilibrios de acróbata en el aire; y como prodigio de juegos malabares, en una punta de caliza se mantenía, cual imantada, una bola grande de bronce dorado, y encima otra más pequeña, y sobre ésta una cruz de hierro que acababa en pararrayos.'\n",
    "\n",
    "mensaje_codificado,tamanyo_mensaje,alfabeto,frecuencias=EncodeArithmetic(mensaje)\n",
    "mensaje_recuperado=DecodeArithmetic(mensaje_codificado,tamanyo_mensaje,alfabeto,frecuencias)\n",
    "\n",
    "print(mensaje_codificado)\n",
    "print(tamanyo_mensaje)\n",
    "print(alfabeto)\n",
    "print(frecuencias)\n",
    "print(mensaje_recuperado)\n",
    "ratio_compresion=8*len(mensaje)/len(mensaje_codificado)\n",
    "print('Ratio:',ratio_compresion)\n",
    "\n",
    "if (mensaje!=mensaje_recuperado):\n",
    "        print('!!!!!!!!!!!!!!!!!!!!!!!!!!!!!!!!!!!!!!!!!!!!')\n",
    "        mensaje_codificado\n",
    "        "
   ]
  },
  {
   "cell_type": "markdown",
   "id": "legal-target",
   "metadata": {},
   "source": [
    "### Codifico _La Regenta_ \n",
    "Uso como fuente los símbolos del texto."
   ]
  },
  {
   "cell_type": "code",
   "execution_count": null,
   "id": "enclosed-laptop",
   "metadata": {},
   "outputs": [],
   "source": [
    "\n",
    "with open (\"../standard_test_text/la_regenta_utf8\", \"r\") as myfile:\n",
    "    mensaje=myfile.read()\n",
    "t0=time.time()\n",
    "mensaje_codificado,tamanyo_mensaje,alfabeto,frecuencias=EncodeArithmetic(mensaje)\n",
    "t_encode=time.time()-t0\n",
    "print(\"\\n Tiempo Encode:\", t_encode)\n",
    "t0=time.time()\n",
    "mensaje_recuperado=DecodeArithmetic(mensaje_codificado,tamanyo_mensaje,alfabeto,frecuencias)\n",
    "t_decode=time.time()-t0\n",
    "print(\"\\n Tiempo Decode:\", t_decode)\n",
    "\n",
    "ratio_compresion=8*len(mensaje)/len(mensaje_codificado)\n",
    "print(\"\\n Ratio aritmética: \",ratio_compresion, \"Ratio Huffman: 1.8093595855718445\")\n",
    "\n",
    "if (mensaje!=mensaje_recuperado):\n",
    "        print('!!!!!!!!!!!!!!!!!!!!!!!!!!!!!!!!!!!!!!!!!!!!')\n",
    "        \n",
    "\n"
   ]
  }
 ],
 "metadata": {
  "kernelspec": {
   "display_name": "Python 3",
   "language": "python",
   "name": "python3"
  },
  "language_info": {
   "codemirror_mode": {
    "name": "ipython",
    "version": 3
   },
   "file_extension": ".py",
   "mimetype": "text/x-python",
   "name": "python",
   "nbconvert_exporter": "python",
   "pygments_lexer": "ipython3",
   "version": "3.8.8"
  }
 },
 "nbformat": 4,
 "nbformat_minor": 5
}
