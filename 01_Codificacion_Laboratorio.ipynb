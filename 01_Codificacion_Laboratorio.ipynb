{
 "cells": [
  {
   "cell_type": "markdown",
   "id": "considered-slave",
   "metadata": {},
   "source": [
    "# Códigos"
   ]
  },
  {
   "cell_type": "markdown",
   "id": "intensive-stewart",
   "metadata": {},
   "source": [
    "\n",
    "**Dada una codificación $R$, construimos un diccionario para codificar $m2c$ y otro para decodificar $c2m$.**\n"
   ]
  },
  {
   "cell_type": "code",
   "execution_count": null,
   "id": "virtual-blowing",
   "metadata": {},
   "outputs": [],
   "source": [
    "R = [('a','0'), ('b','11'), ('c','100'), ('d','1010'), ('e','1011')]\n",
    "\n",
    "#R = [('ab','0'), ('cb','11'), ('cc','100'), ('da','1010'), ('ae','1011')]\n",
    "\n",
    "\n",
    "# encoding dictionary\n",
    "m2c = dict(R)\n",
    "\n",
    "# decoding dictionary\n",
    "c2m = dict([(c,m) for m, c in m2c.items()])\n",
    "\n",
    "print(m2c)\n",
    "\n",
    "print(c2m)\n"
   ]
  },
  {
   "cell_type": "markdown",
   "id": "overall-diagram",
   "metadata": {},
   "source": [
    "\n",
    "**Definir una función** `Encode(M, m2c)` **que, dado un mensaje $M$ y un diccionario \n",
    "de codificación $m2c$, devuelva el mensaje codificado $C$.**\n"
   ]
  },
  {
   "cell_type": "code",
   "execution_count": 40,
   "id": "entitled-crest",
   "metadata": {},
   "outputs": [],
   "source": [
    "def Encode(M, m2c):\n",
    "    C = ''\n",
    "    i = 0\n",
    "    n = len(M)\n",
    "    c = ''\n",
    "    while i < n:\n",
    "        c += M[i]\n",
    "        if c in m2c:\n",
    "            C += m2c[c]\n",
    "            c = ''\n",
    "        i += 1\n",
    "    return C\n"
   ]
  },
  {
   "cell_type": "markdown",
   "id": "hidden-privacy",
   "metadata": {
    "execution": {
     "iopub.execute_input": "2021-02-18T13:45:36.117604Z",
     "iopub.status.busy": "2021-02-18T13:45:36.117372Z",
     "iopub.status.idle": "2021-02-18T13:45:36.121217Z",
     "shell.execute_reply": "2021-02-18T13:45:36.120671Z",
     "shell.execute_reply.started": "2021-02-18T13:45:36.117582Z"
    }
   },
   "source": [
    "**Definir una función** `Decode(C, m2c)` **que, dado un mensaje codificado $C$ y un diccionario \n",
    "de decodificación $c2m$, devuelva el mensaje original.**"
   ]
  },
  {
   "cell_type": "code",
   "execution_count": 41,
   "id": "institutional-monroe",
   "metadata": {},
   "outputs": [],
   "source": [
    "def Decode(C,c2m):\n",
    "    M = ''\n",
    "    i = 0\n",
    "    n = len(C)\n",
    "    c = ''\n",
    "    while i < n:\n",
    "        c += C[i]\n",
    "        if c in c2m:\n",
    "            M += c2m[c]\n",
    "            c = ''\n",
    "        i += 1\n",
    "    return M"
   ]
  },
  {
   "cell_type": "code",
   "execution_count": 26,
   "id": "seasonal-leone",
   "metadata": {},
   "outputs": [
    {
     "name": "stdout",
     "output_type": "stream",
     "text": [
      "aabacddeae\n",
      "{'a': '0', 'b': '11', 'c': '100', 'd': '1010', 'e': '1011'}\n",
      "0011010010101010101101011\n",
      "{'0': 'a', '11': 'b', '100': 'c', '1010': 'd', '1011': 'e'}\n",
      "True\n",
      "True\n"
     ]
    }
   ],
   "source": [
    "R = [('a','0'), ('b','11'), ('c','100'), ('d','1010'), ('e','1011')]\n",
    "\n",
    "# encoding dictionary\n",
    "m2c = dict(R)\n",
    "\n",
    "# decoding dictionary\n",
    "c2m = dict([(c,m) for m, c in R])\n",
    "\n",
    "M='aabacddeae'\n",
    "C=Encode(M,m2c)\n",
    "print(M)\n",
    "print(m2c)\n",
    "print(C)\n",
    "print(c2m)\n",
    "print(Decode(C,c2m)==M)\n",
    "print(Encode(M,m2c)=='0011010010101010101101011')"
   ]
  },
  {
   "cell_type": "code",
   "execution_count": 27,
   "id": "distant-privacy",
   "metadata": {},
   "outputs": [
    {
     "name": "stdout",
     "output_type": "stream",
     "text": [
      "aabacddeaeabc\n",
      "{'a': '0', 'b': '10', 'c': '110', 'd': '1110', 'e': '1111'}\n",
      "0010011011101110111101111010110\n",
      "{'0': 'a', '10': 'b', '110': 'c', '1110': 'd', '1111': 'e'}\n",
      "True\n",
      "True\n"
     ]
    }
   ],
   "source": [
    "R = [('a','0'), ('b','10'), ('c','110'), ('d','1110'), ('e','1111')]\n",
    "\n",
    "# encoding dictionary\n",
    "m2c = dict(R)\n",
    "\n",
    "# decoding dictionary\n",
    "c2m = dict([(c,m) for m, c in R])\n",
    "\n",
    "M='aabacddeaeabc'\n",
    "C=Encode(M,m2c)\n",
    "print(M)\n",
    "print(m2c)\n",
    "print(C)\n",
    "print(c2m)\n",
    "print(Decode(C,c2m)==M)\n",
    "print(Encode(M,m2c)=='0010011011101110111101111010110')"
   ]
  },
  {
   "cell_type": "code",
   "execution_count": 28,
   "id": "bound-facility",
   "metadata": {},
   "outputs": [
    {
     "name": "stdout",
     "output_type": "stream",
     "text": [
      "ababcbccdaae\n",
      "{'ab': '0', 'cb': '11', 'cc': '100', 'da': '1010', 'ae': '1011'}\n",
      "001110010101011\n",
      "{'0': 'ab', '11': 'cb', '100': 'cc', '1010': 'da', '1011': 'ae'}\n",
      "True\n",
      "True\n"
     ]
    }
   ],
   "source": [
    "R = [('ab','0'), ('cb','11'), ('cc','100'), ('da','1010'), ('ae','1011')]\n",
    "\n",
    "# encoding dictionary\n",
    "m2c = dict(R)\n",
    "\n",
    "# decoding dictionary\n",
    "c2m = dict([(c,m) for m, c in m2c.items()])\n",
    "M='ababcbccdaae'\n",
    "C=Encode(M,m2c)\n",
    "print(M)\n",
    "print(m2c)\n",
    "print(C)\n",
    "print(c2m)\n",
    "print(Decode(C,c2m)==M)\n",
    "print(Encode(M,m2c)=='001110010101011')"
   ]
  },
  {
   "cell_type": "code",
   "execution_count": 8,
   "id": "rubber-alexandria",
   "metadata": {
    "execution": {
     "iopub.execute_input": "2021-02-18T15:38:21.564286Z",
     "iopub.status.busy": "2021-02-18T15:38:21.564177Z",
     "iopub.status.idle": "2021-02-18T15:38:21.569962Z",
     "shell.execute_reply": "2021-02-18T15:38:21.569312Z",
     "shell.execute_reply.started": "2021-02-18T15:38:21.564272Z"
    }
   },
   "outputs": [
    {
     "name": "stdout",
     "output_type": "stream",
     "text": [
      "ae ae True\n",
      "-----------------------------------\n",
      " Código no prefijo o se ha encontrado palabra que no es del código: 1\n",
      "-----------------------------------\n",
      "be None False\n"
     ]
    }
   ],
   "source": [
    "#------------------------------------------------------------------------\n",
    "# Ejemplo 3 (no prefijo)\n",
    "#------------------------------------------------------------------------\n",
    "R = [('a','0'), ('b','01'), ('c','011'), ('d','0111'), ('e','1111')]\n",
    "\n",
    "# encoding dictionary\n",
    "m2c = dict(R)\n",
    "\n",
    "# decoding dictionary\n",
    "c2m = dict([(c,m) for m, c in R])\n",
    "\n",
    "''' \n",
    "6. Codificar y decodificar los mensajes  'ae' y 'be'. \n",
    "Comprobar si los mensajes decodificados coinciden con los originales.\n",
    "'''\n",
    "\n",
    "\n",
    "\n",
    "M='ae'\n",
    "C=Encode(M,m2c)\n",
    "Mr=Decode(C,c2m)\n",
    "print(M,Mr,M==Mr)\n",
    "\n",
    "M='be'\n",
    "C=Encode(M,m2c)\n",
    "Mr=Decode(C,c2m)\n",
    "print(M,Mr,M==Mr)\n",
    "\n"
   ]
  },
  {
   "cell_type": "markdown",
   "id": "cordless-qatar",
   "metadata": {},
   "source": [
    "# Códigos canónicos\n",
    "\n",
    "\n",
    "RFC 1951, sección 3.2.2: https://tools.ietf.org/html/rfc1951#page-7\n",
    "\n"
   ]
  },
  {
   "cell_type": "markdown",
   "id": "incorporate-immunology",
   "metadata": {},
   "source": [
    "\n",
    "**Definir una función** `CodeCanonico(L)` **que, dada una lista de longitudes $L$ y devuelva un código canónico binario cuyas palabras tengan las longitudes de la lista $L$.**"
   ]
  },
  {
   "cell_type": "code",
   "execution_count": 33,
   "id": "dangerous-walker",
   "metadata": {},
   "outputs": [],
   "source": [
    "\n",
    "\n",
    "def CodeCanonico(L):\n",
    "    bl_count = {}\n",
    "    MAX_BITS = 0 \n",
    "    for elem in L:\n",
    "        if elem in bl_count:\n",
    "            bl_count[elem] += 1\n",
    "        else:\n",
    "            bl_count[elem] = 1\n",
    "        MAX_BITS = max(elem, MAX_BITS)\n",
    "    code = 0\n",
    "    next_code = {}\n",
    "    for bits in range(1,MAX_BITS+1):\n",
    "        code = (code + bl_count.get(bits-1, 0)) << 1\n",
    "        next_code[bits] = code\n",
    "    codigo_binario = []\n",
    "    for n in L:\n",
    "        codigo = str(bin(next_code[n]))[2:]\n",
    "        if (len(codigo) != n):\n",
    "            codigo = (n - len(codigo))*'0' + codigo\n",
    "        codigo_binario.append(codigo)\n",
    "        next_code[n] += 1\n",
    "    return codigo_binario"
   ]
  },
  {
   "cell_type": "code",
   "execution_count": 34,
   "id": "massive-darkness",
   "metadata": {},
   "outputs": [
    {
     "name": "stdout",
     "output_type": "stream",
     "text": [
      "[3, 3, 3, 3, 3, 2, 4, 4]\n",
      "['010', '011', '100', '101', '110', '00', '1110', '1111']\n"
     ]
    }
   ],
   "source": [
    "L=[3, 3, 3, 3, 3, 2, 4, 4]\n",
    "\n",
    "print(L)\n",
    "print(CodeCanonico(L))"
   ]
  },
  {
   "cell_type": "code",
   "execution_count": 14,
   "id": "behavioral-gentleman",
   "metadata": {
    "execution": {
     "iopub.execute_input": "2021-02-18T15:38:37.633584Z",
     "iopub.status.busy": "2021-02-18T15:38:37.633317Z",
     "iopub.status.idle": "2021-02-18T15:38:37.637564Z",
     "shell.execute_reply": "2021-02-18T15:38:37.636824Z",
     "shell.execute_reply.started": "2021-02-18T15:38:37.633565Z"
    }
   },
   "outputs": [
    {
     "name": "stdout",
     "output_type": "stream",
     "text": [
      "[7, 2, 3, 3, 3, 3, 26, 4, 4, 4, 600]\n",
      "['1111000', '00', '010', '011', '100', '101', '11110010000000000000000000', '1100', '1101', '1110', '111100100000000000000000010000000000000000000000000000000000000000000000000000000000000000000000000000000000000000000000000000000000000000000000000000000000000000000000000000000000000000000000000000000000000000000000000000000000000000000000000000000000000000000000000000000000000000000000000000000000000000000000000000000000000000000000000000000000000000000000000000000000000000000000000000000000000000000000000000000000000000000000000000000000000000000000000000000000000000000000000000000000000000000000000000000000000000000000000000000000000000000000000000000000000000000000000000000000000000000000']\n"
     ]
    }
   ],
   "source": [
    "L=[7,2,3,3,3,3,26,4,4,4,600]\n",
    "\n",
    "print(L)\n",
    "print(CodeCanonico(L)"
   ]
  },
  {
   "cell_type": "markdown",
   "id": "governmental-sight",
   "metadata": {},
   "source": [
    "# Ejercicio final"
   ]
  },
  {
   "cell_type": "code",
   "execution_count": 43,
   "id": "graphic-robinson",
   "metadata": {},
   "outputs": [
    {
     "name": "stdout",
     "output_type": "stream",
     "text": [
      "The Island of Doctor Moreau, by H. G. Wells [...] The knot of Beast Men, still wondering, stood back among the trees. I passed them as serenely as possible. One started to follow me, but retreated again when Montgomery cracked his whip. The rest stood silent--watching. They may once have been animals; but I never before saw an animal trying to think. XIV. DOCTOR MOREAU EXPLAINS. AND now, Prendick, I will explain, said Doctor Moreau, so soon as we had eaten and drunk. I must confess that you are the most dictatorial guest I ever entertained.\n"
     ]
    }
   ],
   "source": [
    "mensaje=\"The Island of Doctor Moreau, by H. G. Wells [...] The knot of Beast Men, still wondering, stood back among the trees. I passed them as serenely as possible. One started to follow me, but retreated again when Montgomery cracked his whip. The rest stood silent--watching. They may once have been animals; but I never before saw an animal trying to think. XIV. DOCTOR MOREAU EXPLAINS. AND now, Prendick, I will explain, said Doctor Moreau, so soon as we had eaten and drunk. I must confess that you are the most dictatorial guest I ever entertained.\"\n",
    "print(mensaje)"
   ]
  },
  {
   "cell_type": "markdown",
   "id": "industrial-affair",
   "metadata": {},
   "source": [
    "**Ejemplo**: Símbolos y longitudes de las palabras del código asociadas"
   ]
  },
  {
   "cell_type": "code",
   "execution_count": 44,
   "id": "cardiovascular-florist",
   "metadata": {},
   "outputs": [
    {
     "name": "stdout",
     "output_type": "stream",
     "text": [
      "[(' ', 3), (',', 6), ('-', 8), ('.', 5), (';', 9), ('A', 8), ('B', 9), ('C', 9), ('D', 7), ('E', 8), ('G', 9), ('H', 9), ('I', 6), ('L', 9), ('M', 7), ('N', 8), ('O', 7), ('P', 8), ('R', 8), ('S', 9), ('T', 7), ('U', 9), ('V', 9), ('W', 9), ('X', 8), ('[', 10), (']', 10), ('a', 4), ('b', 6), ('c', 6), ('d', 5), ('e', 3), ('f', 7), ('g', 6), ('h', 5), ('i', 5), ('k', 7), ('l', 5), ('m', 6), ('n', 4), ('o', 4), ('p', 7), ('r', 5), ('s', 4), ('t', 4), ('u', 6), ('v', 8), ('w', 6), ('x', 9), ('y', 6)]\n"
     ]
    }
   ],
   "source": [
    "Codificacion_para_estudiantes = [(' ', 3), (',', 6), ('-', 8), ('.', 5), (';', 9), ('A', 8), ('B', 9), ('C', 9), ('D', 7), ('E', 8), ('G', 9), ('H', 9), ('I', 6), ('L', 9), ('M', 7), ('N', 8), ('O', 7), ('P', 8), ('R', 8), ('S', 9), ('T', 7), ('U', 9), ('V', 9), ('W', 9), ('X', 8), ('[', 10), (']', 10), ('a', 4), ('b', 6), ('c', 6), ('d', 5), ('e', 3), ('f', 7), ('g', 6), ('h', 5), ('i', 5), ('k', 7), ('l', 5), ('m', 6), ('n', 4), ('o', 4), ('p', 7), ('r', 5), ('s', 4), ('t', 4), ('u', 6), ('v', 8), ('w', 6), ('x', 9), ('y', 6)]\n",
    "print(Codificacion_para_estudiantes)"
   ]
  },
  {
   "cell_type": "markdown",
   "id": "naked-currency",
   "metadata": {
    "execution": {
     "iopub.execute_input": "2021-02-18T15:26:49.774667Z",
     "iopub.status.busy": "2021-02-18T15:26:49.774486Z",
     "iopub.status.idle": "2021-02-18T15:26:49.777759Z",
     "shell.execute_reply": "2021-02-18T15:26:49.777104Z",
     "shell.execute_reply.started": "2021-02-18T15:26:49.774647Z"
    }
   },
   "source": [
    "**Ejemplo**: Hallo el código"
   ]
  },
  {
   "cell_type": "code",
   "execution_count": 45,
   "id": "smart-spokesman",
   "metadata": {},
   "outputs": [
    {
     "name": "stdout",
     "output_type": "stream",
     "text": [
      "{' ': '000', ',': '110000', '-': '11110010', '.': '10010', ';': '111110100', 'A': '11110011', 'B': '111110101', 'C': '111110110', 'D': '1110010', 'E': '11110100', 'G': '111110111', 'H': '111111000', 'I': '110001', 'L': '111111001', 'M': '1110011', 'N': '11110101', 'O': '1110100', 'P': '11110110', 'R': '11110111', 'S': '111111010', 'T': '1110101', 'U': '111111011', 'V': '111111100', 'W': '111111101', 'X': '11111000', '[': '1111111110', ']': '1111111111', 'a': '0100', 'b': '110010', 'c': '110011', 'd': '10011', 'e': '001', 'f': '1110110', 'g': '110100', 'h': '10100', 'i': '10101', 'k': '1110111', 'l': '10110', 'm': '110101', 'n': '0101', 'o': '0110', 'p': '1111000', 'r': '10111', 's': '0111', 't': '1000', 'u': '110110', 'v': '11111001', 'w': '110111', 'x': '111111110', 'y': '111000'}\n",
      "{'000': ' ', '110000': ',', '11110010': '-', '10010': '.', '111110100': ';', '11110011': 'A', '111110101': 'B', '111110110': 'C', '1110010': 'D', '11110100': 'E', '111110111': 'G', '111111000': 'H', '110001': 'I', '111111001': 'L', '1110011': 'M', '11110101': 'N', '1110100': 'O', '11110110': 'P', '11110111': 'R', '111111010': 'S', '1110101': 'T', '111111011': 'U', '111111100': 'V', '111111101': 'W', '11111000': 'X', '1111111110': '[', '1111111111': ']', '0100': 'a', '110010': 'b', '110011': 'c', '10011': 'd', '001': 'e', '1110110': 'f', '110100': 'g', '10100': 'h', '10101': 'i', '1110111': 'k', '10110': 'l', '110101': 'm', '0101': 'n', '0110': 'o', '1111000': 'p', '10111': 'r', '0111': 's', '1000': 't', '110110': 'u', '11111001': 'v', '110111': 'w', '111111110': 'x', '111000': 'y'}\n",
      "The Island of Doctor Moreau, by H. G. Wells [...] The knot of Beast Men, still wondering, stood back among the trees. I passed them as serenely as possible. One started to follow me, but retreated again when Montgomery cracked his whip. The rest stood silent--watching. They may once have been animals; but I never before saw an animal trying to think. XIV. DOCTOR MOREAU EXPLAINS. AND now, Prendick, I will explain, said Doctor Moreau, so soon as we had eaten and drunk. I must confess that you are the most dictatorial guest I ever entertained.\n",
      "11101011010000100011000101111011001000101100110000110111011000011100100110110011100001101011100011100110110101110010100110110110000000110010111000000111111000100100001111101111001000011111110100110110101100111000111111111010010100101001011111111110001110101101000010001110111010101101000000011011101100001111101010010100011110000001110011001010111000000001111000101011011010110000110111011001011001100110111101010101110100110000000011110000110011010011000110010010011001111101110000100110101011001011101000001000101000010001000101110010010111100100001100010001111000010001110111001100110001000101000011101010000100011100001110011011100101010011011011100000001000111000111100001100111011110101110010101100011001000011101000101001000011110000100101111000001100110001000011000011101100110101101011001101101110001101010011100000001100101101101000000101110011000101110010100100000110011000010011010001001010101010001101111010000101010001110011011001011000110100011011010100110111111000000110011101110100110011111011100110011000101001010101110001101111010010101111100010010000111010110100001000101110010111100000001111000011001101001100001111010110110001010110001111001011110010110111010010001100111010010101010111010010010000111010110100001111000000110101010011100000001100101110011001000101000100111110010010001100100010010101000010001011010111010101001011001111111101000001100101101101000000110001000010100111111001001101110001100100011110110011010111001000011101001101110000100010100001000101101011101010100101100001000101111110001010101011101000001000011000010001010010101010111101111001000011111000110001111111100100100001110010111010011111011011101011110100111101110001110011111010011110111111101001111001111111101100011110100111110001111011011111100111110011110001111101011111110101001000011110011111101011110010000010101101101111100000001111011010111001010110011101011100111110111110000000110001000110111101011011010110000001111111110111100010110010010101010111000000001110100101011001100011100100110110011100001101011100011100110110101110010100110110110000000011101100000111011001100101000010001110001101110010001010001001001100000101001000001010100001000101100110001001110111110110010111101111001000011000100011010111011001111000000110011011001011110110001011101110001000101000100100000011100001101101100000100101110010001000101000010001101010110011110000001001110101110011100001001000011010111101010100101100001101001101100010111100000011000100000111111001001101110000010101100000110111100001001010101010011001110010\n",
      "\n",
      "True\n"
     ]
    }
   ],
   "source": [
    "alfabeto=[i[0] for i in Codificacion_para_estudiantes]\n",
    "longitudes=[i[1] for i in Codificacion_para_estudiantes]\n",
    "\n",
    "codigoCanonico=CodeCanonico(longitudes)\n",
    "\n",
    "R=[(i,j) for i,j in zip(alfabeto, codigoCanonico)]\n",
    "\n",
    "# encoding dictionary\n",
    "m2c = dict(R)\n",
    "\n",
    "# decoding dictionary\n",
    "c2m = dict([(c,m) for m, c in m2c.items()])\n",
    "\n",
    "print(m2c)\n",
    "print(c2m)\n",
    "\n",
    "\n",
    "mensajeCodificado=Encode(mensaje,m2c)\n",
    "\n",
    "print(mensaje)\n",
    "print(mensajeCodificado)\n",
    "print()\n",
    "print(mensaje==Decode(mensajeCodificado,c2m))"
   ]
  },
  {
   "cell_type": "code",
   "execution_count": 56,
   "id": "incomplete-finger",
   "metadata": {},
   "outputs": [
    {
     "name": "stdout",
     "output_type": "stream",
     "text": [
      "The Island of Doctor Moreau, by H. G. Wells [...] The poor brute seemed horribly scared, and crouched in the bottom of its little cage. Overboard with 'em! bawled the captain. Overboard with 'em! We'll have a clean ship soon of the whole bilin' of 'em. He stood in my way, so that I had perforce to tap his shoulder to come on deck. He came round with a start, and staggered back a few paces to stare at me. It needed no expert eye to tell that the man was still drunk. Hullo! said he, stupidly; and then with a light coming into his eyes, Why, it's Mister--Mister? Prendick, said I.\n",
      "\n",
      "True\n"
     ]
    }
   ],
   "source": [
    "mensaje_codificado=\"1111101010100010100111011011000101010100101101001100011111101110011111101001111001010000111101110011111000011110111010101001101111100100011010011100100111010111001100111111011110011001111101101011010110101110000011111110111001111001111001111111111000111110101010001010011011001110111101110011010010111110111100001010011000010101011101010101100110010100011110111101110110110100101011110010011000100100100101110101100111100100001001011010011001001010111011111011110010101000101100110001101011000100010100010100110100011110001000011111010100011111101110001101000110000010101011010001000101010101001001001001111000010111001100111110011111010010110111110100011101001011110011001110000110100010100001110100010111010111110110001101000100111000101010101100110010001010001010010010010011011010000100011010110110011001111100111110100101101111101000111010010111100110011100001101000101000011101000101110101111101100011111011010111101001010110101001010001001111010010100010000100101010101010100101100011000101000110110110001100001110111101100001111110111001000101000101001110001010001111010101010011010001101010101101011011101000001111110111001110100010111010111001100111010101010011000100001110111100110001101011000110101111001001110000100111001110010001100001110010001010001001000001110110001010001001001100110110010110111111011101111011110010010100100001110010000100110110001010001101100000110001010001111101111010110011010110111001000011100100100111110101010100011110110001001101011001011110011100110011101010101001001001001101010101001011101111101111011010011001110000110100010100000100001100010000100101111000110010000100101101001100110001000010011110001111000010110111010110011001101000100100101111001000100001110111010111100000110110010010010010111000001000011100110001000010010111010100010010000011010101011100110011101101000001011001010101100110101100110010110011100010111111111111011001011011110000001011110010101001000011100100001011010110101001000101000100100000100010100010100110101010010110001110000100110000011000100001101010110101001001110111110111101101111001110011001110101110111101011010101111111011000110000100011010011001010001011100100011000100011011111011001101001110101111001111111000000100101101001100100010100010110110001110000110100010100000100001010101101111000101001000001001001111101010110101101111000000110101101000011100101000110110000001011110010101110001100100011111011101001110011100100001101000111010011000001111100001101100010000101101111111011111110111111110000110110001000010110111111111001001111111001011101011011010011011010010111100111001000110000100011010011001110110110011\"\n",
    "# print(mensaje_codificado)\n",
    "\n",
    "Codificacion_para_estudiantes = [(' ', 2), ('!', 8), (\"'\", 7), (',', 6), ('-', 8), ('.', 6), (';', 9), ('?', 9), ('D', 9), ('G', 9), ('H', 7), ('I', 7), ('M', 8), ('O', 8), ('P', 9), ('T', 8), ('W', 8), ('[', 9), (']', 9), ('a', 4), ('b', 6), ('c', 5), ('d', 5), ('e', 4), ('f', 7), ('g', 7), ('h', 5), ('i', 4), ('k', 7), ('l', 5), ('m', 6), ('n', 5), ('o', 4), ('p', 6), ('r', 5), ('s', 5), ('t', 4), ('u', 6), ('v', 7), ('w', 6), ('x', 9), ('y', 6)]\n",
    "# print(Codificacion_para_estudiantes)\n",
    "\n",
    "alfabeto=[i[0] for i in Codificacion_para_estudiantes]\n",
    "longitudes=[i[1] for i in Codificacion_para_estudiantes]\n",
    "\n",
    "codigoCanonico=CodeCanonico(longitudes)\n",
    "\n",
    "R=[(i,j) for i,j in zip(alfabeto, codigoCanonico)]\n",
    "\n",
    "# encoding dictionary\n",
    "m2c = dict(R)\n",
    "\n",
    "# decoding dictionary\n",
    "c2m = dict([(c,m) for m, c in m2c.items()])\n",
    "\n",
    "# print(m2c)\n",
    "# print(c2m)\n",
    "\n",
    "\n",
    "mensaje=Decode(mensaje_codificado,c2m)\n",
    "\n",
    "print(mensaje)\n",
    "# print(mensaje_codificado)\n",
    "print()\n",
    "print(mensaje_codificado==Encode(mensaje,m2c))"
   ]
  },
  {
   "cell_type": "code",
   "execution_count": null,
   "id": "minus-glance",
   "metadata": {},
   "outputs": [],
   "source": []
  }
 ],
 "metadata": {
  "kernelspec": {
   "display_name": "Python 3",
   "language": "python",
   "name": "python3"
  },
  "language_info": {
   "codemirror_mode": {
    "name": "ipython",
    "version": 3
   },
   "file_extension": ".py",
   "mimetype": "text/x-python",
   "name": "python",
   "nbconvert_exporter": "python",
   "pygments_lexer": "ipython3",
   "version": "3.8.8"
  }
 },
 "nbformat": 4,
 "nbformat_minor": 5
}
